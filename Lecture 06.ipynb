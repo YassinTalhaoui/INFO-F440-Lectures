{
 "cells": [
  {
   "cell_type": "markdown",
   "metadata": {},
   "source": [
    "# Notebook 6\n",
    "## March 4 2024"
   ]
  },
  {
   "cell_type": "markdown",
   "metadata": {},
   "source": [
    "# Measuring similarity between strings: Jaquard similarity\n",
    "\n",
    "Suppose you have several documents and you want to determine how similar they are. One simple, but effective way is to break them into fragments of a given size (usually around 8) and see how many are the same. This works better then simpler methods like counting the number of matches (Hamming distance) as it works under insertion and deletion, and is easier to work with than edit distance (minimum number of insertions, deletions, changes of a character) which is harder to compute.\n",
    "\n",
    "We start by computing all fragments of a string and store them in a set:"
   ]
  },
  {
   "cell_type": "code",
   "execution_count": 1,
   "metadata": {},
   "outputs": [
    {
     "name": "stdout",
     "output_type": "stream",
     "text": [
      "{' you ', 's and', 'docum', 'Suppo', ' have', 'nd yo', 'ant t', ' how ', 'ral d', 'nts a', 'and y', 'ou ha', 'y are', 'detem', 'se yo', 'hey a', 'ose y', 'milar', 'to de', 'ey ar', 'etemi', 't to ', 'u hav', 'ave s', 'l doc', 'you w', 'nt to', 'ments', 'uppos', 'evera', ' want', 'have ', ' docu', ' seve', 'veral', 'u wan', 'ine h', ' simi', 'd you', 'ents ', 'want ', 'simil', 'sever', 'emine', 'ppose', 'e you', 'pose ', 'eral ', 'they ', ' dete', 'al do', 'ne ho', 'e how', 'how s', 'r the', 'o det', ' to d', 'lar t', 'ar th', 'ou wa', 'ow si', 'cumen', 'imila', 'mine ', 'ocume', ' and ', 'ts an', ' they', 'w sim', 'ilar ', 'ument', 'temin', 've se', 'you h', 'e sev'}\n"
     ]
    }
   ],
   "source": [
    "def fragments(string,fragSize):\n",
    "    F=set()\n",
    "    for i in range(len(string)-fragSize):\n",
    "        F.add(string[i:i+fragSize])\n",
    "    return F\n",
    "\n",
    "print(fragments(\"Suppose you have several documents and you want to detemine how similar they are.\",5))"
   ]
  },
  {
   "cell_type": "markdown",
   "metadata": {},
   "source": [
    "Then we can compute the Jaquard similarity between two strings, which is simply the percentage of their total fragments that they have in common:"
   ]
  },
  {
   "cell_type": "code",
   "execution_count": 2,
   "metadata": {},
   "outputs": [],
   "source": [
    "def jaquard(fragments1,fragments2):\n",
    "    return len(fragments1 & fragments2)/len(fragments1 | fragments2)"
   ]
  },
  {
   "cell_type": "code",
   "execution_count": 60,
   "metadata": {},
   "outputs": [],
   "source": [
    "S1=\"Suppose you have several documents and you want to detemine how similar they are.\"\n",
    "S2=\"There are several similar documents that you want to know their similarity.\"\n",
    "S3=\"Thus you can get a value, accurate to within 1% additive error\"\n",
    "F1,F2,F3= (fragments(S,5) for S in (S1,S2,S3))"
   ]
  },
  {
   "cell_type": "code",
   "execution_count": 4,
   "metadata": {},
   "outputs": [
    {
     "name": "stdout",
     "output_type": "stream",
     "text": [
      "0.23684210526315788\n",
      "0.007633587786259542\n",
      "0.00819672131147541\n"
     ]
    }
   ],
   "source": [
    "print(jaquard(F1,F2))\n",
    "print(jaquard(F1,F3))\n",
    "print(jaquard(F2,F3))"
   ]
  },
  {
   "cell_type": "markdown",
   "metadata": {},
   "source": [
    "We will want to have the fragments of many strings, so here is a function that creates a dictionary that maps strings to their set of fragments."
   ]
  },
  {
   "cell_type": "code",
   "execution_count": 5,
   "metadata": {},
   "outputs": [
    {
     "data": {
      "text/plain": [
       "{'Suppose you have several documents and you want to detemine how similar they are.': {' and ',\n",
       "  ' dete',\n",
       "  ' docu',\n",
       "  ' have',\n",
       "  ' how ',\n",
       "  ' seve',\n",
       "  ' simi',\n",
       "  ' they',\n",
       "  ' to d',\n",
       "  ' want',\n",
       "  ' you ',\n",
       "  'Suppo',\n",
       "  'al do',\n",
       "  'and y',\n",
       "  'ant t',\n",
       "  'ar th',\n",
       "  'ave s',\n",
       "  'cumen',\n",
       "  'd you',\n",
       "  'detem',\n",
       "  'docum',\n",
       "  'e how',\n",
       "  'e sev',\n",
       "  'e you',\n",
       "  'emine',\n",
       "  'ents ',\n",
       "  'eral ',\n",
       "  'etemi',\n",
       "  'evera',\n",
       "  'ey ar',\n",
       "  'have ',\n",
       "  'hey a',\n",
       "  'how s',\n",
       "  'ilar ',\n",
       "  'imila',\n",
       "  'ine h',\n",
       "  'l doc',\n",
       "  'lar t',\n",
       "  'ments',\n",
       "  'milar',\n",
       "  'mine ',\n",
       "  'nd yo',\n",
       "  'ne ho',\n",
       "  'nt to',\n",
       "  'nts a',\n",
       "  'o det',\n",
       "  'ocume',\n",
       "  'ose y',\n",
       "  'ou ha',\n",
       "  'ou wa',\n",
       "  'ow si',\n",
       "  'pose ',\n",
       "  'ppose',\n",
       "  'r the',\n",
       "  'ral d',\n",
       "  's and',\n",
       "  'se yo',\n",
       "  'sever',\n",
       "  'simil',\n",
       "  't to ',\n",
       "  'temin',\n",
       "  'they ',\n",
       "  'to de',\n",
       "  'ts an',\n",
       "  'u hav',\n",
       "  'u wan',\n",
       "  'ument',\n",
       "  'uppos',\n",
       "  've se',\n",
       "  'veral',\n",
       "  'w sim',\n",
       "  'want ',\n",
       "  'y are',\n",
       "  'you h',\n",
       "  'you w'},\n",
       " 'There are several similar documents that you want to know their similarity.': {' are ',\n",
       "  ' docu',\n",
       "  ' know',\n",
       "  ' seve',\n",
       "  ' simi',\n",
       "  ' that',\n",
       "  ' thei',\n",
       "  ' to k',\n",
       "  ' want',\n",
       "  ' you ',\n",
       "  'There',\n",
       "  'al si',\n",
       "  'ant t',\n",
       "  'ar do',\n",
       "  'are s',\n",
       "  'arity',\n",
       "  'at yo',\n",
       "  'cumen',\n",
       "  'docum',\n",
       "  'e are',\n",
       "  'e sev',\n",
       "  'eir s',\n",
       "  'ents ',\n",
       "  'eral ',\n",
       "  'ere a',\n",
       "  'evera',\n",
       "  'hat y',\n",
       "  'heir ',\n",
       "  'here ',\n",
       "  'ilar ',\n",
       "  'ilari',\n",
       "  'imila',\n",
       "  'ir si',\n",
       "  'know ',\n",
       "  'l sim',\n",
       "  'lar d',\n",
       "  'larit',\n",
       "  'ments',\n",
       "  'milar',\n",
       "  'now t',\n",
       "  'nt to',\n",
       "  'nts t',\n",
       "  'o kno',\n",
       "  'ocume',\n",
       "  'ou wa',\n",
       "  'ow th',\n",
       "  'r doc',\n",
       "  'r sim',\n",
       "  'ral s',\n",
       "  're ar',\n",
       "  're se',\n",
       "  's tha',\n",
       "  'sever',\n",
       "  'simil',\n",
       "  't to ',\n",
       "  't you',\n",
       "  'that ',\n",
       "  'their',\n",
       "  'to kn',\n",
       "  'ts th',\n",
       "  'u wan',\n",
       "  'ument',\n",
       "  'veral',\n",
       "  'w the',\n",
       "  'want ',\n",
       "  'you w'},\n",
       " 'Thus you can get a value, accurate to within 1% additive error': {' 1% a',\n",
       "  ' a va',\n",
       "  ' accu',\n",
       "  ' addi',\n",
       "  ' can ',\n",
       "  ' erro',\n",
       "  ' get ',\n",
       "  ' to w',\n",
       "  ' valu',\n",
       "  ' with',\n",
       "  ' you ',\n",
       "  '% add',\n",
       "  ', acc',\n",
       "  '1% ad',\n",
       "  'Thus ',\n",
       "  'a val',\n",
       "  'accur',\n",
       "  'addit',\n",
       "  'alue,',\n",
       "  'an ge',\n",
       "  'ate t',\n",
       "  'can g',\n",
       "  'ccura',\n",
       "  'curat',\n",
       "  'dditi',\n",
       "  'ditiv',\n",
       "  'e err',\n",
       "  'e to ',\n",
       "  'e, ac',\n",
       "  'et a ',\n",
       "  'get a',\n",
       "  'hin 1',\n",
       "  'hus y',\n",
       "  'in 1%',\n",
       "  'ithin',\n",
       "  'itive',\n",
       "  'ive e',\n",
       "  'lue, ',\n",
       "  'n 1% ',\n",
       "  'n get',\n",
       "  'o wit',\n",
       "  'ou ca',\n",
       "  'rate ',\n",
       "  's you',\n",
       "  't a v',\n",
       "  'te to',\n",
       "  'thin ',\n",
       "  'tive ',\n",
       "  'to wi',\n",
       "  'u can',\n",
       "  'ue, a',\n",
       "  'urate',\n",
       "  'us yo',\n",
       "  'value',\n",
       "  've er',\n",
       "  'withi',\n",
       "  'you c'}}"
      ]
     },
     "execution_count": 5,
     "metadata": {},
     "output_type": "execute_result"
    }
   ],
   "source": [
    "import itertools\n",
    "\n",
    "# This returns a dictionary that maps strings to their set of fragments\n",
    "def fragmentDict(strings,fragSize):\n",
    "    Fragments={}\n",
    "    for s in strings: \n",
    "        Fragments[s]=fragments(s,fragSize)\n",
    "    return Fragments\n",
    "\n",
    "fragmentDict([S1,S2,S3],5)"
   ]
  },
  {
   "cell_type": "markdown",
   "metadata": {},
   "source": [
    "If you have several strings and want to find all pairs that are similar you can do this with a double loop. Alas, while this is simple, it is computationally expensive. Given $n$ strings of length $d$, this is going to cost $O(n^2d)$. You could vary the question and say you have $n$ reference documents, and then you have $m$ query documents, and you want for each query document to find the closest reference document, or perhaps all reference documents with similarity below a certain threshold. This would cost $O(nmd)$, which is not feasible for large data sets.\n",
    "\n",
    "Here is some (slow) code that will return all pairs of strings with distance above some threshold. It returns the pair of the first two strings, which are similar."
   ]
  },
  {
   "cell_type": "code",
   "execution_count": 6,
   "metadata": {},
   "outputs": [
    {
     "name": "stdout",
     "output_type": "stream",
     "text": [
      "[(0.23684210526315788, 'Suppose you have several documents and you want to detemine how similar they are.', 'There are several similar documents that you want to know their similarity.')]\n"
     ]
    }
   ],
   "source": [
    "def findSimilarStringPairs(Fragments,threshold):\n",
    "    similarPairs=[]\n",
    "    for s1,s2 in itertools.combinations(Fragments.keys(),2):\n",
    "            j=jaquard(Fragments[s1],Fragments[s2])\n",
    "            if j>=threshold:\n",
    "                similarPairs.append((j,s1,s2))\n",
    "    return similarPairs  \n",
    "            \n",
    "print(findSimilarStringPairs(fragmentDict([S1,S2,S3],5),0.1))\n",
    "                "
   ]
  },
  {
   "cell_type": "markdown",
   "metadata": {},
   "source": [
    "# minHash\n",
    "\n",
    "We will now show a clever method to replace a document with a single number, so that the expected value of two documents having the same number is exactly their Jaquard similarity. We call this number the *score* of the document.\n",
    "\n",
    "Given several documents, take all fragments they generate (duplicates appear only once) and randomly permute them. Then the score of a document is the index of its first fragment of that appears in the permutation\n",
    "\n",
    "The score does not make sense for a single string in isolation (why?). Here is code that given a list of strings, returns a dictionary that makes the strings to their scores."
   ]
  },
  {
   "cell_type": "code",
   "execution_count": 28,
   "metadata": {},
   "outputs": [],
   "source": [
    "import random\n",
    "\n",
    "# Returns a dictionary that maps strings to a single minHash score\n",
    "def scoreDict(fragmentDict):\n",
    "    Scores={}\n",
    "    allFragments=list(set().union(*fragmentDict.values()))\n",
    "    random.shuffle(allFragments)\n",
    "    for s,fragment in fragmentDict.items():\n",
    "        for i in range(len(allFragments)):\n",
    "            if allFragments[i] in fragment:\n",
    "                Scores[s]=i\n",
    "                break\n",
    "    return(Scores)"
   ]
  },
  {
   "cell_type": "code",
   "execution_count": 72,
   "metadata": {},
   "outputs": [
    {
     "name": "stdout",
     "output_type": "stream",
     "text": [
      "0 Suppose you have several documents and you want to detemine how similar they are.\n",
      "0 There are several similar documents that you want to know their similarity.\n",
      "3 Thus you can get a value, accurate to within 1% additive error\n"
     ]
    }
   ],
   "source": [
    "# TRY RUNNING THIS A FEW TIMES AND WATCH THE SCORES CHANGE\n",
    "ManyScores=scoreDict(fragmentDict([S1,S2,S3],5))\n",
    "for string,score in ManyScores.items():\n",
    "    print(score,string)"
   ]
  },
  {
   "cell_type": "markdown",
   "metadata": {},
   "source": [
    "Let $j(x,y)$ be the Jaquard similarity and let $s(x,y)$ be 1 if $x$ and $y$ have the same score and 0 otherwise.\n",
    "\n",
    "What is nice is that $E[s(x,y)]=j(x,y)$.\n",
    "\n",
    "Here is the proof. There are three types of fragments:\n",
    "\n",
    "- Case 1: Those that are present in $x$ and $y$\n",
    "- Case 2: Those that are absent in $x$ and $y$\n",
    "- Case 3: Those that are in either $x$ or $y$ but not both.\n",
    "\n",
    "Let $t_1,t_2,t_3$ be the numbers of these types of fragments. What is $j(x,y)$. It is $\\frac{t_1}{t_1+t_3}$.\n",
    "Now, to determine if the score of two strings is the same, you can view this as a process where we pick random fragments until we find one that is either case 1 or 3. The two strings are then given the same score if we are in case 1, else they have different scores. This happens with chance $\\frac{t_1}{t_1+t_3}$.\n",
    "\n",
    "\n",
    "But remember that the score is always either 0 or 1. Thus, while it has the right expected value, on it own it has little use. As we have done before, the solution is to compute the score several times and take the average. Let's compute $k$ scores $s_1(x,y), \\ldots s_k(x,y)$ and define $\\hat{f}(x,y)=\\frac{1}{k}\\sum_{i=1}^k s_i$. \n",
    "\n",
    "As each $s_i$ is independent, we can once again use Chernoff bounds, which can show that $\\hat{f}(x,y)$ is within an $\\epsilon$ of $\\hat{f}(x,y)$ with probability $1-\\delta$ so long as $k\\geq \\frac{1}{2\\epsilon^2} \\ln \\frac{2}{\\delta}$. (See [here](https://www.cs.utah.edu/~jeffp/teaching/cs5140-S17/cs5140/L4-Minhash.pdf) for a nice set of notes on this topic).\n",
    "\n",
    "Now, since we need multiple scores and not a single one, here is a function which given a list of strings returns a dictionary which will map the strings to a list of scores."
   ]
  },
  {
   "cell_type": "code",
   "execution_count": 75,
   "metadata": {},
   "outputs": [
    {
     "name": "stdout",
     "output_type": "stream",
     "text": [
      "[0, 0, 2, 0, 4, 2, 0, 0, 1, 5] Suppose you have several documents and you want to detemine how similar they are.\n",
      "[2, 2, 4, 0, 1, 1, 6, 8, 1, 2] There are several similar documents that you want to know their similarity.\n",
      "[3, 1, 0, 4, 0, 0, 2, 1, 0, 0] Thus you can get a value, accurate to within 1% additive error\n"
     ]
    }
   ],
   "source": [
    "# Returns a dictionary that maps strings to a list of scoreCount minHash scores from different permutations\n",
    "# AGAIN: TRY RUNNING THIS A FEW TIMES AND WATCH THE SCORES CHANGE\n",
    "def multipleScoreDict(fragmentDict,scoreCount):\n",
    "    ManyScores=[scoreDict(fragmentDict) for i in range(scoreCount)]\n",
    "    toReturn={}\n",
    "    for string in fragmentDict.keys():\n",
    "        toReturn[string]=[ManyScores[i][string] for i in range(scoreCount)]\n",
    "    return toReturn\n",
    "\n",
    "ms=multipleScoreDict(fragmentDict([S1,S2,S3],5),10)\n",
    "for string,scores in ms.items():\n",
    "    print(scores,string)\n",
    "                          "
   ]
  },
  {
   "cell_type": "code",
   "execution_count": 84,
   "metadata": {},
   "outputs": [
    {
     "name": "stdout",
     "output_type": "stream",
     "text": [
      "( Suppose yo ...) ( There are  ...) approx: 0.2  real:  0.23684210526315788\n",
      "( Suppose yo ...) ( Thus you c ...) approx: 0.0  real:  0.007633587786259542\n",
      "( There are  ...) ( Thus you c ...) approx: 0.0  real:  0.00819672131147541\n"
     ]
    }
   ],
   "source": [
    "fragmentSize=5\n",
    "signatureLength=100\n",
    "\n",
    "# Given multipleScores, computes the pairwise Jaquard approx, the real one, and prints\n",
    "def approxJaquard(multipleScores):\n",
    "    for i,j in itertools.combinations(multipleScores.items(),2):\n",
    "        jaquardapprox=sum(i[1][k]==j[1][k] for k in range(len(i[1])))/len(i[1])\n",
    "        jaquardreal=jaquard(fragments(i[0],fragmentSize),fragments(j[0],fragmentSize))\n",
    "        print(\"(\",i[0][:10],\"...) (\",j[0][:10],\"...) approx:\",jaquardapprox,\" real: \",jaquardreal)\n",
    "\n",
    "ms=multipleScoreDict(fragmentDict([S1,S2,S3],5),10)\n",
    "approxJaquard(ms)\n",
    "        "
   ]
  },
  {
   "cell_type": "markdown",
   "metadata": {},
   "source": [
    "**Summary**: Using minHash, we can replace comparing strings or all their fragments, which could vary in length and be quite large, with a uniform length list of numbers. For example, to compute the Jaquard distance to within 10%, 99% of the time would require approximately 1000 numbers, which could be a significant savings for large documents.\n",
    "\n",
    "However, searching remains a problem, as to compute one document's similarity with $n$ others so far we have been limited to looping over all the others. By using minHash we have improved the speed of the inside of the loop (for long documents), but have done nothing about the loop itself. Removing this loop is the topic of the next section."
   ]
  },
  {
   "cell_type": "markdown",
   "metadata": {},
   "source": [
    "# Locality sensitive hashing"
   ]
  },
  {
   "cell_type": "markdown",
   "metadata": {},
   "source": [
    "Suppose you have a set of hash functions $H$, some data, and some distance measure $d$ over your data. We say that $H$ is a $(r,c,p_1,p_2)$ LSH family if for a randomly chosen $h \\in H$:\n",
    "\n",
    "- If $d(x,y) \\leq r$ then $h(x)=h(y)$ with probability at least $p_1$\n",
    "- If $d(x,y) \\geq cr$ then $h(x)=h(y)$ with probability at most $p_2$\n",
    "\n",
    "with $p_1>p_2$. Usually, $r$ and $c$ are chosen and $p_1$ and $p_2$ are computed as a function of $r$ and $c$."
   ]
  },
  {
   "cell_type": "markdown",
   "metadata": {},
   "source": [
    "**Example:** Hamming distance in strings of length $n$. The Hamming distance of two strings of equal length is the number of positions where they differ."
   ]
  },
  {
   "cell_type": "code",
   "execution_count": 11,
   "metadata": {},
   "outputs": [
    {
     "name": "stdout",
     "output_type": "stream",
     "text": [
      "3\n",
      "['b', 'b']\n"
     ]
    }
   ],
   "source": [
    "def hamming(S1,S2):\n",
    "    return sum(c1!=c2 for c1,c2 in zip(S1,S2))\n",
    "\n",
    "def LSHhamming(Strings):\n",
    "    i=random.randrange(len(Strings[0]))\n",
    "    return [s[i] for s in Strings]\n",
    "\n",
    "S1=\"aaabbbccc\"\n",
    "S2=\"aacbbaccb\"\n",
    "print(hamming(S1,S2))\n",
    "print(LSHhamming((S1,S2)))"
   ]
  },
  {
   "cell_type": "markdown",
   "metadata": {},
   "source": [
    "Our LSH hash function family for stings of length $n$ is to pick a random integer $i$ in $[0..n-1]$ and let $h(x)=x[i]$.\n",
    "\n",
    "Given two strings $x$ and $y$, what is the chance $h(x)=h(y)$? It is $1-\\frac{d(x,y)}{n}$ where $d$ is the Hamming distance. With LSH you need to first decide your goal, suppose you want to be able to classify documents that have Hamming distance at least $0.2n$ as not similar, less than $0.1n$ as similar, and documents that are between $0.1n$ and $0.2n$ could be classified either way. Then we set $r=0.1$ and $cr=0.2$ (thus $c=2$).  \n",
    "\n",
    "- If $d(x,y) \\leq 0.1n$ then $h(x)=h(y)$ with probability at least $0.9$\n",
    "- If $d(x,y) \\geq 0.2n$ then $h(x)=h(y)$ with probability at most $0.8$\n",
    "\n",
    "Thus our hash function is a valid LSH hash function."
   ]
  },
  {
   "cell_type": "markdown",
   "metadata": {},
   "source": [
    "Ideally $p_1=1$ and $p_2=0$. Let's call the *error* rate $\\delta=\\max(1-p_1,p_2)$, where $1-p_1$ is the *false negative* rate, and $p_1$ is the *false positive* rate. Ideally the error rate would be zero, but this is not possible. However there are techniques to manipulate $p_1$ and $p_2$ to lower the error rate."
   ]
  },
  {
   "cell_type": "markdown",
   "metadata": {},
   "source": [
    "The first technique is called an AND construction. This is simply the technique we have used several times: Pick $k$ different random hash functions from the LSH family, and now we replace testing if $h(x)=h(y)$ with doing this test on all $k$ hash functions and reporting equality only if all of them are equal. This has the general affect of lowering the false positive rate, as $p_1$ and $p_2$ decrease.\n",
    "\n",
    "Each hash chosen in the AND construction is independent, so this has the effect that $(r,c,p_1,p_2)$ becomes $(r,c,p_1^k,p_2^k)$\n",
    "\n",
    "Here we can compute the effect on the $p_1$ and $p_2$. Note that while they go down they also get farther apart, and thus the error decreases some before increasing again; still, we would like errors that are much better than 50%."
   ]
  },
  {
   "cell_type": "code",
   "execution_count": 12,
   "metadata": {
    "scrolled": true
   },
   "outputs": [
    {
     "name": "stdout",
     "output_type": "stream",
     "text": [
      "k: 1 p1:0.80 p2:0.90 error:0.80\n",
      "k: 2 p1:0.64 p2:0.81 error:0.64\n",
      "k: 3 p1:0.51 p2:0.73 error:0.51\n",
      "k: 4 p1:0.41 p2:0.66 error:0.41\n",
      "k: 5 p1:0.33 p2:0.59 error:0.41\n",
      "k: 6 p1:0.26 p2:0.53 error:0.47\n",
      "k: 7 p1:0.21 p2:0.48 error:0.52\n",
      "k: 8 p1:0.17 p2:0.43 error:0.57\n",
      "k: 9 p1:0.13 p2:0.39 error:0.61\n",
      "k:10 p1:0.11 p2:0.35 error:0.65\n",
      "k:11 p1:0.09 p2:0.31 error:0.69\n",
      "k:12 p1:0.07 p2:0.28 error:0.72\n",
      "k:13 p1:0.05 p2:0.25 error:0.75\n",
      "k:14 p1:0.04 p2:0.23 error:0.77\n",
      "k:15 p1:0.04 p2:0.21 error:0.79\n",
      "k:16 p1:0.03 p2:0.19 error:0.81\n",
      "k:17 p1:0.02 p2:0.17 error:0.83\n",
      "k:18 p1:0.02 p2:0.15 error:0.85\n",
      "k:19 p1:0.01 p2:0.14 error:0.86\n"
     ]
    }
   ],
   "source": [
    "def computeAndProbabilities(p1,p2,k):\n",
    "    return (p1**k,p2**k)\n",
    "def error(p1,p2):\n",
    "    return max(p1,1-p2)\n",
    "\n",
    "#Here we show the effect of an AND construction\n",
    "for k in range(1,20):\n",
    "    p1,p2=computeAndProbabilities(0.8,0.9,k)\n",
    "    print(\"k:{:2} p1:{:.2f} p2:{:.2f} error:{:.2f}\".format(k,p1,p2,error(p1,p2)))\n"
   ]
  },
  {
   "cell_type": "markdown",
   "metadata": {},
   "source": [
    "The second technique is the OR construction. Here we repeat $\\ell$ with different LSH hashes and times and say two items are equal if at least on one of the $\\ell$ hash functions, they has to the same value.\n",
    "\n",
    "These are independent events so this has the effect that $(r,c,p_1,p_2)$ becomes $(r,c,1-(1-p_1)^\n",
    "\\ell,1-(1-p_2)^\\ell)$. This causes $p_1$ and $p_2$ to increase as well as the error, which does not seem to be so useful!"
   ]
  },
  {
   "cell_type": "code",
   "execution_count": 13,
   "metadata": {
    "scrolled": true
   },
   "outputs": [
    {
     "name": "stdout",
     "output_type": "stream",
     "text": [
      "k: 1 p1:0.80 p2:0.90 error:0.80\n",
      "k: 2 p1:0.96 p2:0.99 error:0.96\n",
      "k: 3 p1:0.99 p2:1.00 error:0.99\n",
      "k: 4 p1:1.00 p2:1.00 error:1.00\n",
      "k: 5 p1:1.00 p2:1.00 error:1.00\n",
      "k: 6 p1:1.00 p2:1.00 error:1.00\n",
      "k: 7 p1:1.00 p2:1.00 error:1.00\n",
      "k: 8 p1:1.00 p2:1.00 error:1.00\n",
      "k: 9 p1:1.00 p2:1.00 error:1.00\n",
      "k:10 p1:1.00 p2:1.00 error:1.00\n",
      "k:11 p1:1.00 p2:1.00 error:1.00\n",
      "k:12 p1:1.00 p2:1.00 error:1.00\n",
      "k:13 p1:1.00 p2:1.00 error:1.00\n",
      "k:14 p1:1.00 p2:1.00 error:1.00\n",
      "k:15 p1:1.00 p2:1.00 error:1.00\n",
      "k:16 p1:1.00 p2:1.00 error:1.00\n",
      "k:17 p1:1.00 p2:1.00 error:1.00\n",
      "k:18 p1:1.00 p2:1.00 error:1.00\n",
      "k:19 p1:1.00 p2:1.00 error:1.00\n"
     ]
    }
   ],
   "source": [
    "def computeOrProbabilities(p1,p2,l):\n",
    "    return (1-(1-p1)**l,1-(1-p2)**l)\n",
    "\n",
    "for k in range(1,20):\n",
    "    p1,p2=computeOrProbabilities(0.8,0.9,k)\n",
    "    print(\"k:{:2} p1:{:.2f} p2:{:.2f} error:{:.2f}\".format(k,p1,p2,error(p1,p2)))"
   ]
  },
  {
   "cell_type": "markdown",
   "metadata": {},
   "source": [
    "The AND and OR can be combined. We OR $\\ell$ groups, each group is the ANDing of $k$ random LSH hashes. This has the effect that $(r,c,p_1,p_2)$ becomes $(r,c,1-(1-p_1^k)^\\ell,1-(1-p_2^k)^\\ell)$\n",
    "\n",
    "Here we look at $p_1=0.9$ and $p_2=0.8$, $\\ell=100$ and varying $k$. Again, recall the goal is high $p_1$ and low $p_2$."
   ]
  },
  {
   "cell_type": "code",
   "execution_count": 14,
   "metadata": {},
   "outputs": [
    {
     "name": "stdout",
     "output_type": "stream",
     "text": [
      "k: 1 l:1000 p1:1.00 p2:1.00 error:1.00\n",
      "k: 2 l:1000 p1:1.00 p2:1.00 error:1.00\n",
      "k: 3 l:1000 p1:1.00 p2:1.00 error:1.00\n",
      "k: 4 l:1000 p1:1.00 p2:1.00 error:1.00\n",
      "k: 5 l:1000 p1:1.00 p2:1.00 error:1.00\n",
      "k: 6 l:1000 p1:1.00 p2:1.00 error:1.00\n",
      "k: 7 l:1000 p1:1.00 p2:1.00 error:1.00\n",
      "k: 8 l:1000 p1:1.00 p2:1.00 error:1.00\n",
      "k: 9 l:1000 p1:1.00 p2:1.00 error:1.00\n",
      "k:10 l:1000 p1:1.00 p2:1.00 error:1.00\n",
      "k:11 l:1000 p1:1.00 p2:1.00 error:1.00\n",
      "k:12 l:1000 p1:1.00 p2:1.00 error:1.00\n",
      "k:13 l:1000 p1:1.00 p2:1.00 error:1.00\n",
      "k:14 l:1000 p1:1.00 p2:1.00 error:1.00\n",
      "k:15 l:1000 p1:1.00 p2:1.00 error:1.00\n",
      "k:16 l:1000 p1:1.00 p2:1.00 error:1.00\n",
      "k:17 l:1000 p1:1.00 p2:1.00 error:1.00\n",
      "k:18 l:1000 p1:1.00 p2:1.00 error:1.00\n",
      "k:19 l:1000 p1:1.00 p2:1.00 error:1.00\n",
      "k:20 l:1000 p1:1.00 p2:1.00 error:1.00\n",
      "k:21 l:1000 p1:1.00 p2:1.00 error:1.00\n",
      "k:22 l:1000 p1:1.00 p2:1.00 error:1.00\n",
      "k:23 l:1000 p1:1.00 p2:1.00 error:1.00\n",
      "k:24 l:1000 p1:0.99 p2:1.00 error:0.99\n",
      "k:25 l:1000 p1:0.98 p2:1.00 error:0.98\n",
      "k:26 l:1000 p1:0.95 p2:1.00 error:0.95\n",
      "k:27 l:1000 p1:0.91 p2:1.00 error:0.91\n",
      "k:28 l:1000 p1:0.86 p2:1.00 error:0.86\n",
      "k:29 l:1000 p1:0.79 p2:1.00 error:0.79\n",
      "k:30 l:1000 p1:0.71 p2:1.00 error:0.71\n",
      "k:31 l:1000 p1:0.63 p2:1.00 error:0.63\n",
      "k:32 l:1000 p1:0.55 p2:1.00 error:0.55\n",
      "k:33 l:1000 p1:0.47 p2:1.00 error:0.47\n",
      "k:34 l:1000 p1:0.40 p2:1.00 error:0.40\n",
      "k:35 l:1000 p1:0.33 p2:1.00 error:0.33\n",
      "k:36 l:1000 p1:0.28 p2:1.00 error:0.28\n",
      "k:37 l:1000 p1:0.23 p2:1.00 error:0.23\n",
      "k:38 l:1000 p1:0.19 p2:1.00 error:0.19\n",
      "k:39 l:1000 p1:0.15 p2:1.00 error:0.15\n",
      "k:40 l:1000 p1:0.12 p2:1.00 error:0.12\n",
      "k:41 l:1000 p1:0.10 p2:1.00 error:0.10\n",
      "k:42 l:1000 p1:0.08 p2:1.00 error:0.08\n",
      "k:43 l:1000 p1:0.07 p2:1.00 error:0.07\n",
      "k:44 l:1000 p1:0.05 p2:1.00 error:0.05\n",
      "k:45 l:1000 p1:0.04 p2:1.00 error:0.04\n",
      "k:46 l:1000 p1:0.03 p2:1.00 error:0.03\n",
      "k:47 l:1000 p1:0.03 p2:1.00 error:0.03\n",
      "k:48 l:1000 p1:0.02 p2:1.00 error:0.02\n",
      "k:49 l:1000 p1:0.02 p2:1.00 error:0.02\n",
      "k:50 l:1000 p1:0.01 p2:0.99 error:0.01\n",
      "k:51 l:1000 p1:0.01 p2:0.99 error:0.01\n",
      "k:52 l:1000 p1:0.01 p2:0.98 error:0.02\n",
      "k:53 l:1000 p1:0.01 p2:0.98 error:0.02\n",
      "k:54 l:1000 p1:0.01 p2:0.97 error:0.03\n",
      "k:55 l:1000 p1:0.00 p2:0.95 error:0.05\n",
      "k:56 l:1000 p1:0.00 p2:0.94 error:0.06\n",
      "k:57 l:1000 p1:0.00 p2:0.92 error:0.08\n",
      "k:58 l:1000 p1:0.00 p2:0.89 error:0.11\n",
      "k:59 l:1000 p1:0.00 p2:0.86 error:0.14\n",
      "k:60 l:1000 p1:0.00 p2:0.83 error:0.17\n",
      "k:61 l:1000 p1:0.00 p2:0.80 error:0.20\n",
      "k:62 l:1000 p1:0.00 p2:0.77 error:0.23\n",
      "k:63 l:1000 p1:0.00 p2:0.73 error:0.27\n",
      "k:64 l:1000 p1:0.00 p2:0.69 error:0.31\n",
      "k:65 l:1000 p1:0.00 p2:0.65 error:0.35\n",
      "k:66 l:1000 p1:0.00 p2:0.62 error:0.38\n",
      "k:67 l:1000 p1:0.00 p2:0.58 error:0.42\n",
      "k:68 l:1000 p1:0.00 p2:0.54 error:0.46\n",
      "k:69 l:1000 p1:0.00 p2:0.50 error:0.50\n",
      "k:70 l:1000 p1:0.00 p2:0.47 error:0.53\n",
      "k:71 l:1000 p1:0.00 p2:0.43 error:0.57\n",
      "k:72 l:1000 p1:0.00 p2:0.40 error:0.60\n",
      "k:73 l:1000 p1:0.00 p2:0.37 error:0.63\n",
      "k:74 l:1000 p1:0.00 p2:0.34 error:0.66\n",
      "k:75 l:1000 p1:0.00 p2:0.31 error:0.69\n",
      "k:76 l:1000 p1:0.00 p2:0.28 error:0.72\n",
      "k:77 l:1000 p1:0.00 p2:0.26 error:0.74\n",
      "k:78 l:1000 p1:0.00 p2:0.24 error:0.76\n",
      "k:79 l:1000 p1:0.00 p2:0.22 error:0.78\n",
      "k:80 l:1000 p1:0.00 p2:0.20 error:0.80\n",
      "k:81 l:1000 p1:0.00 p2:0.18 error:0.82\n",
      "k:82 l:1000 p1:0.00 p2:0.16 error:0.84\n",
      "k:83 l:1000 p1:0.00 p2:0.15 error:0.85\n",
      "k:84 l:1000 p1:0.00 p2:0.13 error:0.87\n",
      "k:85 l:1000 p1:0.00 p2:0.12 error:0.88\n",
      "k:86 l:1000 p1:0.00 p2:0.11 error:0.89\n",
      "k:87 l:1000 p1:0.00 p2:0.10 error:0.90\n",
      "k:88 l:1000 p1:0.00 p2:0.09 error:0.91\n",
      "k:89 l:1000 p1:0.00 p2:0.08 error:0.92\n",
      "k:90 l:1000 p1:0.00 p2:0.07 error:0.93\n",
      "k:91 l:1000 p1:0.00 p2:0.07 error:0.93\n",
      "k:92 l:1000 p1:0.00 p2:0.06 error:0.94\n",
      "k:93 l:1000 p1:0.00 p2:0.05 error:0.95\n",
      "k:94 l:1000 p1:0.00 p2:0.05 error:0.95\n",
      "k:95 l:1000 p1:0.00 p2:0.04 error:0.96\n",
      "k:96 l:1000 p1:0.00 p2:0.04 error:0.96\n",
      "k:97 l:1000 p1:0.00 p2:0.04 error:0.96\n",
      "k:98 l:1000 p1:0.00 p2:0.03 error:0.97\n",
      "k:99 l:1000 p1:0.00 p2:0.03 error:0.97\n"
     ]
    }
   ],
   "source": [
    "def computeOrOfAndProbabilities(p1,p2,k,l):\n",
    "    p1,p2=computeAndProbabilities(p1,p2,k)\n",
    "    return computeOrProbabilities(p1,p2,l)\n",
    "\n",
    "l=1000\n",
    "for k in range(1,100):\n",
    "    p1,p2=computeOrOfAndProbabilities(0.8,0.9,k,l)\n",
    "    print(\"k:{:2} l:{:2} p1:{:.2f} p2:{:.2f} error:{:.2f}\".format(k,l,p1,p2,error(p1,p2)))"
   ]
  },
  {
   "cell_type": "markdown",
   "metadata": {},
   "source": [
    "Bingo! We see there is a sweet spot where the error has been reduced to 1%"
   ]
  },
  {
   "cell_type": "markdown",
   "metadata": {},
   "source": [
    "We now graphically show the effect of different choices of $k$ and $\\ell$. The general goal is to pick the smallest $k$ and $\\ell$ so that the initial $p_1$ becomes at most $\\delta$, and $p_2$ becomes at least $1-\\delta$, where $\\delta$ is the desired error rate. I picked a few $k$ and $\\ell$ to plot, you should experiment!"
   ]
  },
  {
   "cell_type": "code",
   "execution_count": 15,
   "metadata": {},
   "outputs": [
    {
     "data": {
      "image/png": "[encoded data removed]",
      "text/plain": [
       "<Figure size 576x360 with 1 Axes>"
      ]
     },
     "metadata": {
      "needs_background": "light"
     },
     "output_type": "display_data"
    }
   ],
   "source": [
    "import matplotlib.pyplot as plt\n",
    "\n",
    "def plotLSH(klpairs,figsize=[8,5]):\n",
    "    fig, ax = plt.subplots(figsize=figsize)\n",
    "    P=[x/100 for x in range(100)]\n",
    "    for k,l in klpairs:\n",
    "        Probs=[1-(1-(p)**k)**l for p in P]\n",
    "        ax.plot(P,Probs,label=\"k=\"+str(k)+\", l=\"+str(l))\n",
    "    ax.set_xlabel(\"p before amplification\")\n",
    "    ax.set_ylabel(\"p after amplification\")\n",
    "    ax.set_title(\"LSH amplification\")\n",
    "    Ticks=[x/10 for x in range(11)]\n",
    "    ax.set_xticks(Ticks)\n",
    "    ax.set_yticks(Ticks)\n",
    "    ax.legend()\n",
    "    plt.xlim([0,1])\n",
    "    plt.ylim([0,1])\n",
    "    plt.grid()\n",
    "\n",
    "plotLSH([(10,10),(20,5),(50,2),(2,2),(50,1000)])\n"
   ]
  },
  {
   "cell_type": "markdown",
   "metadata": {},
   "source": [
    "In general $\\ell$ is more important than $k$ to minimize for reasons I will explain soon. So, here are two functions. One which given a $k$ finds the best $\\ell$ to minimize the error. The second function, which uses the first, is given an desired error rate and finds the smallest $k$ "
   ]
  },
  {
   "cell_type": "code",
   "execution_count": 16,
   "metadata": {},
   "outputs": [
    {
     "name": "stdout",
     "output_type": "stream",
     "text": [
      "Best error starting with p1=0.8 and p2=0.9 with l=5 is k=13 error=0.24627112669033757\n"
     ]
    }
   ],
   "source": [
    "def findMinK(p1in,p2in,l):\n",
    "    bestk=-1\n",
    "    minerror=2\n",
    "    best=None\n",
    "    k=1\n",
    "    while True:\n",
    "        p1,p2=computeOrOfAndProbabilities(p1in,p2in,k,l)\n",
    "        e=error(p1,p2)\n",
    "        if e<=minerror:\n",
    "            minerror=e\n",
    "            bestk=k    \n",
    "            best=(p1,p2)\n",
    "            k+=1\n",
    "        else:\n",
    "            break\n",
    "    return (bestk,minerror,best)\n",
    "\n",
    "l=5\n",
    "p1=.8\n",
    "p2=.9\n",
    "bestk,minerror,best=findMinK(p1,p2,l)\n",
    "print(\"Best error starting with p1=\"+str(p1)+\" and p2=\"+str(p2)+\" with l=\"+str(l)+\" is k=\"+str(bestk)+\" error=\"+str(minerror))"
   ]
  },
  {
   "cell_type": "code",
   "execution_count": 17,
   "metadata": {},
   "outputs": [
    {
     "name": "stdout",
     "output_type": "stream",
     "text": [
      "With p1=0.6 p2=0.8 and target error>0.1 choose: k=11 l=26 kl=286 which gives error=0.09679312516841665\n"
     ]
    }
   ],
   "source": [
    "def findKL(p1,p2,err):\n",
    "    l=1\n",
    "    for x in range(40):\n",
    "        bestk,minerror,best=findMinK(p1,p2,l)\n",
    "        if minerror<err:\n",
    "            return (bestk,l,minerror,best)\n",
    "        l+=1\n",
    "        \n",
    "p1=.6\n",
    "p2=.8\n",
    "err=0.1\n",
    "bestk,bestl,minerror,best=findKL(p1,p2,err)\n",
    "print(\"With p1=\"+str(p1)+\" p2=\"+str(p2)+\" and target error>\"+str(err)+\n",
    "      \" choose: k=\"+str(bestk)+\" l=\"+str(bestl)+\" kl=\"+str(bestl*bestk)+\" which gives error=\"+str(minerror))"
   ]
  },
  {
   "cell_type": "markdown",
   "metadata": {},
   "source": [
    "# Back to Jaquard and minhash\n",
    "\n",
    "Does our score estimator meet the definition of LSH? Yes! Recall the LSH definition:\n",
    "\n",
    "Suppose you have a set of hash functions $H$, some data, and some distance measure $d$ over your data. We say that $H$ is a $(r,c,p_1,p_2)$ LSH family if:\n",
    "\n",
    "- If $d(x,y) \\leq r$ then $h(x)=h(y)$ with probability at least $p_1$\n",
    "- If $d(x,y) \\geq cr$ then $h(x)=h(y)$ with probability at most $p_2$\n",
    "\n",
    "with $p_1>p_2$.\n",
    "\n",
    "\n",
    "Recall that $j(x,y)$ was the Jaquard similarity. As LSH requires a distance, let $d(x,y)=1-j(x,y)$ so that identical strings have distance zero and very different strings have distance 1. For the hash, we simplly use the score as computed from the random permutation of the fragments. We had shown that $Pr[s(x)=s(y)]=j(x,y)$.\n",
    "\n",
    "Thus we have\n",
    "\n",
    "- If $\\overbrace{d(x,y) \\leq r}^{j(x,y) \\geq 1-r}$ then $s(x)=s(y)$ with probability at least $1-r$ \n",
    "- If $\\underbrace{d(x,y) \\geq cr}_{j(x,y) \\leq 1-cr}$ then $s(x)=s(y)$ with probability at most $1-cr$ \n",
    "\n",
    "\n",
    "\n"
   ]
  },
  {
   "cell_type": "markdown",
   "metadata": {},
   "source": [
    "I will now go though an example, given a real data set, how to use LSH to see if there is a document similar to a query document. First, the following code downloads the data set and may take some time the first time you run it:"
   ]
  },
  {
   "cell_type": "code",
   "execution_count": 18,
   "metadata": {},
   "outputs": [
    {
     "name": "stderr",
     "output_type": "stream",
     "text": [
      "[nltk_data] Downloading package reuters to /Users/iacono/nltk_data...\n",
      "[nltk_data]   Package reuters is already up-to-date!\n"
     ]
    },
    {
     "data": {
      "text/plain": [
       "True"
      ]
     },
     "execution_count": 18,
     "metadata": {},
     "output_type": "execute_result"
    }
   ],
   "source": [
    "import nltk\n",
    "from nltk.corpus import reuters\n",
    "nltk.download('reuters')"
   ]
  },
  {
   "cell_type": "markdown",
   "metadata": {},
   "source": [
    "Now, some minor processing. I print the number of documents, the total size, and the 700th document just to show you what they look like. I also put all the documents into a dictionary `data` where each document is indexed by a document ID, which is a short string."
   ]
  },
  {
   "cell_type": "code",
   "execution_count": 19,
   "metadata": {
    "scrolled": true
   },
   "outputs": [
    {
     "name": "stdout",
     "output_type": "stream",
     "text": [
      "Number of documents: 10788\n",
      "Total size 8846853\n",
      "SMUGGLING BLAMED FOR CLOSURE OF HAITIAN SUGAR FIRM\n",
      "  A sugar mill which was this\n",
      "  nation's second largest employer closed its doors yesterday,\n",
      "  saying it had been run out of business by sugar smuggled from\n",
      "  Miami and the neighbouring Dominican Republic.\n",
      "      The closure of the Haitian American Sugar Company (HASCO)\n",
      "  will idle 3,500 employees and affect as many as 30,000 to\n",
      "  40,000 small sugar cane planters in regions around the capital,\n",
      "  the company said.\n",
      "      \"Because of unprecedented and ever-growing smuggling, HASCO\n",
      "  regrets ... It cannot continue to accept delivery of sugar cane\n",
      "  after April 10,\" the mill warned planters earlier this week.\n",
      "      Since President Jean-Claude Duvalier fled Haiti fourteen\n",
      "  months ago, widescale smuggling of basic goods such as cooking\n",
      "  oil, flour, rice, sugar and canned milk has lowered consumer\n",
      "  prices but bankrupted several local manufacturers, throwing\n",
      "  hundreds of thousands of Haitians out of work.\n",
      "      At the HASCO compound, where grim-faced workers lined up to\n",
      "  receive their last pay, Spokesman Georges D. Rigaud showed a\n",
      "  warehouse stocked with an estimated 445,000 unsold 100-pound\n",
      "  (45-kg) bags of sugar.\n",
      "      \"We are closing because of our huge stock of unsold sugar.\n",
      "  We have no money left to continue operations,\" Rigaud said.\n",
      "      He said the company owed 7.6 mln dlrs and had borrowed an\n",
      "  additional 1.5 mln dlrs in order to pay off workers.\n",
      "      Rigaud blamed the mill's problems on an order by Duvalier\n",
      "  two years ago forbidding HASCO from refining sugar.\n",
      "      He said the government then began importing refined sugar\n",
      "  at world market prices and reselling it at a huge profit and\n",
      "  the provisional military-civilian government that replaced\n",
      "  Duvalier last year continued the policy.\n",
      "      \"But now with all the smuggling even the state can't compete\n",
      "  with smuggled Dominican refined sugar,\" Rigaud said.\n",
      "      HASCO workers earned 4.20 dlrs daily, considerably above\n",
      "  the usual minimum wage of three dlrs.\n",
      "      It is generally estimated that every employed Haitian\n",
      "  supports at least six people. Rigaud said HASCO's closing at a\n",
      "  minimum would affect 280,000 to 300,000 people.\n",
      "      Laid-off workers were bitter about the closure. \"We're dead,\n",
      "  and it's the government that's causing us to die,\" declared\n",
      "  Lucien Felix, 34, who has five dependents.\n",
      "  \n",
      "\n",
      "\n"
     ]
    }
   ],
   "source": [
    "# List of documents\n",
    "IDs=reuters.fileids()\n",
    "print(\"Number of documents:\",len(IDs))\n",
    "print(\"Total size\",sum(len(reuters.raw(IDs[i])) for i in range(len(IDs))))\n",
    "print(reuters.raw(IDs[700]));\n",
    "\n",
    "#Put data into dictionary\n",
    "data={}\n",
    "for id in IDs:\n",
    "    data[id]=reuters.raw(id)\n"
   ]
  },
  {
   "cell_type": "markdown",
   "metadata": {},
   "source": [
    "Now, I take the above document and made a few small changes, such as changing the word `CLOSURE` to `OPENING` in the first sentence and add it to the data set with ID `TOTEST`."
   ]
  },
  {
   "cell_type": "code",
   "execution_count": 20,
   "metadata": {},
   "outputs": [],
   "source": [
    "TOTEST=\"\"\"SMUGGLING BLAMED FOR OPENING OF HAITIAN SUGAR FIRM\n",
    "  A sugar mill which was this\n",
    "  nation's second largest employer closed its doors yesterday,\n",
    "  saying it had been run out of business by sugar smuggled from\n",
    "  Miami and the neighbouring Dominican Republic.\n",
    "      The closure of the Haitian American Sugar Company (HASCO)\n",
    "  will idle 3,500 employees and affect as many as 30,000 to\n",
    "  40,000 small sugar cane planters in regions around the capital,\n",
    "  the company said.\n",
    "      \"Because of unprecedented and ever-growing smuggling, HASCO\n",
    "  regrets ... It cannot continue to accept delivery of sugar cane\n",
    "  after April 10,\" the mill warned planters earlier this week.\n",
    "      Since President Jean-Claude Duvalier fled Haiti fourteen\n",
    "  months ago, widescale smuggling of basic goods such as cooking\n",
    "  oil, flour, rice, sugar and canned milk has lowered consumer\n",
    "  prices but bankrupted several local manufacturers, throwing\n",
    "  hundreds of thousands of Haitians out of work.\n",
    "      At the HASCO compound, where grim-faced workers lined up to\n",
    "  receive their last pay, Spokesman Georges D. Rigaud showed a\n",
    "  warehouse stocked with an estimated 445,000 unsold 100-pound\n",
    "  (45-kg) bags of sugar.\n",
    "      \"We are closing because of our huge stock of unsold sugar.\n",
    "  We have no money left to continue operations,\" Rigaud said.\n",
    "      He said the company owed 7.6 mln dlrs and had borrowed an\n",
    "  additional 1.5 mln dlrs in order to pay off workers.\n",
    "      Rigaud blamed the mill's problems on an order by Duvalier\n",
    "  two years ago forbidding HASCO from refining sugar.\n",
    "      He said the government then began importing refined sugar\n",
    "  at world market prices and reselling it at a huge profit and\n",
    "  the provisional military-civilian government that replaced\n",
    "  Duvalier last year continued the policy.\n",
    "      \"But now with all the smuggling even the state can't compete\n",
    "  with smuggled Dominican refined sugar,\" Rigaud said.\n",
    "      HASCO workers earned 4.20 dlrs daily, considerably above\n",
    "  the usual minimum wage of three dlrs.\n",
    "      It is generally estimated that every employed Haitian\n",
    "  supports at least six people. Rigaud said HASCO's closing at a\n",
    "  minimum would affect 280,000 to 300,000 people.\n",
    "      Laid-off workers were bitter about the closure. \"We're dead,\n",
    "  and it's the government that's causing us to die,\" declared\n",
    "  Lucien Felix, 34, who has five dependents.\"\"\"\n",
    "\n",
    "data[\"TOTEST\"]=TOTEST"
   ]
  },
  {
   "cell_type": "markdown",
   "metadata": {},
   "source": [
    "Now we break each document into fragments, using a fragment size of 8. I print out the fragments of `TOTEST`."
   ]
  },
  {
   "cell_type": "code",
   "execution_count": 21,
   "metadata": {},
   "outputs": [],
   "source": [
    "fragSize=8\n",
    "frags={}\n",
    "for id in data:\n",
    "    frags[id]=fragments(data[id],fragSize) "
   ]
  },
  {
   "cell_type": "code",
   "execution_count": 22,
   "metadata": {},
   "outputs": [
    {
     "name": "stdout",
     "output_type": "stream",
     "text": [
      "{'gest emp', 'aid HASC', 'blems on', ' is gene', 'Since Pr', ' profit ', '  HASCO ', 'l minimu', 'itians o', 'everal l', 'pany sai', 'ith smug', 'anters i', 'er April', 's genera', 'loyed Ha', 'ock of u', '  and it', 'mum wage', ' stocked', 'o pay of', '\\n  We ha', ' the gov', '   He sa', 'as many ', 'to die,\"', ' the pro', 'ic goods', 'FIRM\\n  A', 'e closur', 'age of t', 'aid.\\n   ', 'selling ', 'ling it ', 'd market', 'g Domini', 've depen', 'd canned', 'SCO)\\n  w', 'several ', ')\\n  will', 'r Compan', 's the go', 'closed i', 't to con', 'dead,\\n  ', ' but ban', 'ilitary-', 'i fourte', 'prices a', 'usiness ', 'addition', 'dle 3,50', 'd\\n  Duva', '4.20 dlr', 'est empl', 'of the H', 'ers were', 'egrets .', 'ee dlrs.', '0 to 300', \"'s causi\", '    It i', 'nnot con', ' the usu', 'ugar can', 'yesterda', 'r\\n  two ', ' now wit', 'k has lo', 'th smugg', 'e depend', ' causing', 's D. Rig', 'ugar.\\n  ', 'ted 445,', 'rder by ', 'derably ', 'losure. ', 'ier last', 'the comp', 'ing\\n  hu', 'mill whi', 'd the mi', '  regret', 'milk has', 'imum wou', 'y owed 7', 't a\\n  mi', 'ugar\\n  a', 'd.\\n     ', 'd that e', ' declare', 'warehous', 'UGGLING ', ' then be', '\\n      H', 't of bus', ' the smu', 'n\\n  supp', 'mer\\n  pr', 'ented an', '      La', 'ASCO wor', '      It', 'alier la', 'ugar and', 'dlrs.\\n  ', ' 100-pou', \"'s secon\", 'an Ameri', 'ill idle', 'ices but', 'it at a ', ' and aff', 'ng even ', 'ever-gro', 'sugar\\n  ', 'mployed ', 'st six p', '\\n  will ', 'g of bas', 'ced work', '(45-kg) ', 'very emp', 'rowing\\n ', 'idle 3,5', 'en run o', 'tary-civ', 'med the ', 'ect 280,', 'd Haiti ', 'Claude D', '\\n  Miami', 'e of thr', 'ican Sug', 'g HASCO ', 'HASCO\\n  ', 'ut of bu', 'aced wor', 'ng us to', 'n\\n  addi', 'Felix, 3', 'd and ev', 'inue ope', 've their', 'annot co', ' with al', ' said th', 'nd large', 'p to\\n  r', 't employ', 'orkers e', 'rges D. ', 'inican r', ' die,\" d', 'NG BLAME', 'e provis', ' Felix, ', ' D. Riga', '\\n  two y', 'mpany sa', 'o\\n  rece', 'ublic.\\n ', 'east six', 't had be', 'ring Dom', 'n dlrs a', \"he mill'\", 'siderabl', 'rlier th', 'cond lar', ' an\\n  ad', '000 to 3', 'facturer', 'losure o', 'an\\n  add', 'ovisiona', 'an Sugar', ',\\n  sayi', 'isional ', 'ons,\" Ri', 'rting re', 'recedent', 'yed Hait', '\" declar', 'sing us ', 'nsold su', 'ans out ', 'k.\\n     ', 'es but b', ',\\n  and ', 'ers in r', 'pete\\n  w', \"on's sec\", 'd 7.6 ml', 'g at a\\n ', 's at lea', 'from\\n  M', 'le.\\n    ', 'man Geor', 'ivery of', 'rts at l', 'world ma', ' usual m', 'second l', 'sold sug', '  At the', 'ier fled', ' huge st', 'e bitter', 'e their ', 'work.\\n  ', \"SCO's cl\", '  will i', 'g sugar.', '    Riga', '7.6 mln ', '  Laid-o', 's of Hai', 'er by Du', 'erally e', ' reselli', 'business', ' as 30,0', 's in reg', ' warned ', 'CO compo', 'd severa', 'uge stoc', 'ivilian ', 'ff worke', 'ed Haiti', ' by suga', 'ed Domin', 'd plante', 'e,\" decl', 'SCO\\n  re', 'f unsold', 'grim-fac', 'lrs dail', 'kers wer', ' throwin', '3,500 em', 'f sugar ', '  suppor', \"'t compe\", 'd up to\\n', 'at least', 'eople.\\n ', ' of basi', 'earned 4', 'its door', 'y, Spoke', 'n import', 'ices and', 'n Felix,', 'n region', 's around', 'f three ', 'thousand', 'inued th', ' mill wa', ' wage of', ' world m', 'about th', ' said.\\n ', 'ers.\\n   ', '00 to\\n  ', ' such as', 'it had b', ' rice, s', 'king\\n  o', 'ur huge ', 'onal 1.5', 'D FOR OP', 'ar,\" Rig', 's week.\\n', 'owed 7.6', 'ed the p', \"n's seco\", 'tional 1', ' dlrs.\\n ', 'ept deli', 'f busine', 'was this', 'm\\n  Miam', ' It is g', 'IRM\\n  A ', '10,\" the', 'r April ', 'laude Du', 'dlrs dai', 'ets ... ', 's in ord', ' Since P', 'y employ', 'he neigh', ' minimum', 'week.\\n  ', 'uring Do', '.. It ca', 'er about', 'rovision', 'ican ref', 'ING OF H', ' cane pl', 'y as 30,', 'ld sugar', 'smugglin', 'sugar,\" ', 'nths ago', 'ds of Ha', 'anufactu', 'nned mil', 'nimum wo', 'rkers li', '    At t', 'he state', 'ng it ha', 'wered co', ' at worl', 'ompound,', 'PENING O', 'causing ', 'een\\n  mo', '      \"W', 'esident ', 'oors yes', 'uld affe', ' five de', 'ic.\\n    ', ' A sugar', 'osing at', 'cane pla', 'rday,\\n  ', 'gar Comp', \"and it's\", ' from\\n  ', '\\n  minim', ' small s', \"nt that'\", 't contin', ' to pay ', 'ugar,\" R', 't cannot', '\\n      L', 'nt then ', 'ge of th', 'ge profi', 'ed worke', 't a huge', ' busines', 'O from r', 'eek.\\n   ', '     At ', \"it's the\", 'ily, con', ' an esti', ' affect ', \"e're dea\", 'Company ', 'ional 1.', 'ince Pre', 'ernment ', '20 dlrs ', 'gaud sai', 'ar.\\n  We', 'oods suc', 'ness by ', ' of work', 'sold 100', 'he polic', 'lly esti', '00 emplo', 'ces and ', 'n estima', 'lems on ', 'nufactur', 'ich was ', '... It c', 'ependent', 'closure ', 'N SUGAR ', 'Haitian ', 'with smu', 'ked with', '\"We\\'re d', 'replaced', 'rs yeste', 'rs in or', ' who has', '\\n      R', '\\n  wareh', 'no money', 'lour, ri', 'r closed', 'led Hait', 'rs lined', 'has five', 'has lowe', 'er\\n  pri', 'muggling', 'reds of ', 'is week.', 'ean-Clau', 'ared\\n  L', 'en the s', 's and af', 'l warned', 'Duvalier', 'ier this', 'um wage ', \" and it'\", 'bout the', ' provisi', 'regrets ', 'even the', 'f work.\\n', 'sman Geo', 'ago forb', 'e profit', 'ople.\\n  ', \"nd it's \", 'nd\\n  (45', '      Ri', 'er to pa', ' HAITIAN', 'gar mill', 'iami and', ' dlrs in', 'sugar sm', '  Miami ', 'edented ', ' flour, ', 'rkers.\\n ', ' OPENING', 'd a\\n  wa', 'sugar an', 'pokesman', 's many a', 'ete\\n  wi', 'ago, wid', 'r,\" Riga', 'earlier ', 'Because ', 'ying it ', 'ters ear', 'O worker', 'ouse sto', 'tocked w', 's lined ', ' bitter ', 'oil, flo', 'aily, co', '  nation', 'ations,\"', 'e policy', 'ffect 28', 'R OPENIN', 'ear cont', '   \"Beca', 'livery o', 'r\\n  at w', 'dditiona', 'and\\n  th', 'st year ', 'h was th', 'mum woul', 'HASCO fr', 'mall sug', 'f basic ', ' began i', ' week.\\n ', 't is gen', '0 employ', 'bidding ', 'turers, ', 'oney lef', 'ive thei', 'ce Presi', 'AR FIRM\\n', 'mated 44', \"ll's pro\", 'ople. Ri', ' dlrs da', 'nt Jean-', 'ags of s', 'rowing s', 'Rigaud b', 'pound\\n  ', '  \"We ar', 'en\\n  mon', 'und, whe', 'inimum w', ',000 sma', 'hbouring', 'merican ', 'will idl', 'ead,\\n  a', '4, who h', 'round th', 'urteen\\n ', ' dead,\\n ', 'wing smu', ' widesca', 'n began ', 'ENING OF', 'aid the ', 'y estima', \"'s closi\", 'und\\n  (4', 'lic.\\n   ', 'y-civili', 'ng it at', 'NING OF ', 'ued the ', 'im-faced', 'osing be', ' FOR OPE', 'rnment t', 'd the go', ' fourtee', 'wed an\\n ', '0 unsold', 'ud blame', 'm would ', 'r cane\\n ', 'll idle ', 'hundreds', 'g) bags ', 'of work.', 'he provi', ' from re', 'ound the', ' had bee', 'vernment', 'ed from\\n', '-kg) bag', ' of busi', 'such as ', 'n dlrs i', 'gions ar', 'nd had b', ' has fiv', 'gar,\" Ri', 'esterday', 'eral loc', 'ourteen\\n', ' the mil', ' Spokesm', 'd from\\n ', 'r this w', 'ure. \"We', 'up to\\n  ', 'ill warn', 'f thousa', ' \"We\\'re ', '     Rig', 'ugar smu', 'and ever', 'of sugar', '000 unso', \"ate can'\", 'ork.\\n   ', 'id the g', 'an Repub', 'ASCO com', 'd 100-po', 'undreds ', 'd Haitia', 'closing ', '0 people', ' even th', 'idescale', ' off wor', 'owing\\n  ', ' our hug', 'e\\n  with', 'ere bitt', '      At', 'ry-civil', 'd\\n  (45-', 'e smuggl', 'g it had', 'e are cl', 'OR OPENI', 'to 300,0', ' and can', 'R FIRM\\n ', 'lier fle', 'n\\n  mont', 'ausing u', 'he compa', 'IAN SUGA', ' compete', ' replace', '\\n      I', 'egions a', 'he usual', 'ed milk ', 'our huge', 't bankru', \"ation's \", 'ployees ', 'k of uns', 'ond larg', 'rices bu', 'on an or', 'it and\\n ', 'g it at ', 'nal mili', 'ggling, ', 'ed and e', 'onsumer\\n', ' 445,000', 's on an ', '    HASC', '6 mln dl', 'refining', 'en began', 't and\\n  ', 'esman Ge', 's ago fo', ' Georges', '\\n      T', 'f unprec', 'efined s', 'onal mil', 'h as coo', 'd blamed', '-pound\\n ', '  months', 'largest ', 'ng\\n  hun', 'the neig', 'as cooki', 'to\\n  rec', 'ional mi', 'de Duval', 'smuggled', 'owed an\\n', 'e dlrs.\\n', 'd the co', 'al minim', 'ast year', '  oil, f', 'use of o', \" it's th\", 'nimum wa', 'timated ', ',\" decla', ' up to\\n ', 's.\\n     ', ' conside', 'uch as c', ' ever-gr', 'an Georg', '  additi', ' in orde', 'l the sm', 'resellin', 'state ca', 'id the c', 'roblems ', 'HASCO co', 'ousands ', 'rs earli', 'began im', 'and affe', ' sugar,\"', ' to\\n  re', '5,000 un', 'y,\\n  say', '300,000 ', 'which wa', 'rets ...', 'y said.\\n', ' the cap', 'old suga', 'nue to a', 'nce Pres', ' market ', 'rder to ', 'RM\\n  A s', 'itian Am', ', consid', ' been ru', 'peration', 'ie,\" dec', ' warehou', '      Si', ' capital', ' policy.', 'tock of ', 'd sugar\\n', 'gar cane', 'il 10,\" ', 'ffect as', 'two year', '\\n      \"', 'ed plant', 'said.\\n  ', 'imated t', ' operati', 'ms on an', '.\\n      ', 'unpreced', 'ent Jean', 'minimum ', 's out of', 'in order', 'ch as co', 'at repla', 'mi and t', 'declared', 'ompany (', '\\n  (45-k', 'in regio', 'rs.\\n    ', 'nted and', '  (45-kg', 't 280,00', \"tion's s\", 'Miami an', '-off wor', 'sugar.\\n ', 'rowed an', 'an-Claud', 'erations', ' milk ha', 'ing refi', ' smuggli', ' yesterd', ' mln dlr', 'ad,\\n  an', 'veral lo', 'lk has l', 'r, rice,', '    \"Bec', ' out of ', 'ian Amer', 'old 100-', 'x people', 'O)\\n  wil', 'osed its', 'nkrupted', '\\n  price', ' with sm', 'ix, 34, ', ' two yea', 'ny said.', 'sual min', 'mpany (H', ' FIRM\\n  ', '  \"Becau', 'om\\n  Mia', 'd Domini', 'aying it', 'e closin', '(HASCO)\\n', ',000 uns', 'stock of', 's closin', 'oblems o', 'uvalier\\n', 'd 4.20 d', 'ed 7.6 m', 'e govern', ' smuggle', ' company', 'itian\\n  ', 'aud show', '0-pound\\n', '      \"B', 'sugar ca', ', who ha', 'n govern', 'rim-face', 'ast pay,', 'ighbouri', 'closure.', 'krupted ', 'D. Rigau', '  after ', 'at world', 'dding HA', 'd sugar.', ' canned ', 'as this\\n', 'argest e', 'd, where', ' us to d', ' which w', 'ral loca', ' year co', 'sed its ', 'lier\\n  t', 'll the s', 'g smuggl', 'e Presid', 'mated th', ' idle 3,', ',\" Rigau', 'scale sm', 'ted seve', 'fit and\\n', 'to\\n  40,', 'ehouse s', 't then b', 'ound\\n  (', 'left to ', 'er\\n  two', 'ths ago,', 'nd the n', ' 10,\" th', 'ITIAN SU', ' bankrup', 'growing ', ' at leas', 't compet', 'll sugar', 'lanters ', 'sic good', 'HASCO)\\n ', 'o\\n  40,0', 'losing b', 'eceive t', 'rket pri', ' doors y', 'go, wide', 'ning sug', 'nd the c', 'ng\\n  oil', '     He ', 'M\\n  A su', '\\n  hundr', 'e operat', 'd its do', 'd larges', 'employer', 'ined sug', 'ow with ', '\"But now', 'It is ge', ' April 1', 'ASCO\\n  r', 'e\\n  the ', 'ree dlrs', ' America', ' Duvalie', 'igaud sh', 'icy.\\n   ', 'at a\\n  m', 'ment tha', '   It is', 'e of the', '000 to\\n ', 'But now ', 'the capi', '-civilia', 'ED FOR O', 'resident', 'porting ', 's and re', 'pted sev', 'ntinued ', ' At the ', 'lared\\n  ', 's by sug', '     Lai', 'erday,\\n ', '  A suga', ' of our ', 'Haiti fo', ' 7.6 mln', 're bitte', 's\\n  nati', ' forbidd', 'r\\n  pric', ' left to', ' in regi', 'ated 445', 'ould aff', ' the clo', ' said HA', 'AMED FOR', 'm refini', '   \"But ', 'n the st', 'ot conti', 'ng Domin', 'kers.\\n  ', 'd 445,00', 'here gri', 'y sugar ', 'll warne', 'ian\\n  su', 'OF HAITI', \"e mill's\", 'the prov', 'visional', 'd the ne', 'd consum', ' unsold ', 'ct 280,0', ' deliver', 'ly, cons', 'ucien Fe', '45,000 u', 'ery of s', 'ling of ', 'ears ago', 'civilian', 'GGLING B', '  40,000', 'orkers.\\n', 'iness by', ' of suga', ', HASCO\\n', ' a huge ', ' with an', 'muggled ', 'A sugar ', 'ed 445,0', 'gar.\\n   ', 's yester', 'capital,', 'ecedente', '5 mln dl', 'order to', 'een run ', 'ceive th', 'overnmen', ',000 to ', 'mployer ', 'l 10,\" t', 'local ma', ' saying ', 'said the', 'iderably', ' last ye', 'ing HASC', 'lined up', 'onsidera', 'epublic.', ' daily, ', ' above\\n ', '.\\n  We h', 'anned mi', 'vilian g', 'ane plan', ' Preside', 'that eve', '\\n  40,00', 'aitian\\n ', \"l's prob\", 'is\\n  nat', 'HASCO wo', ' additio', 'now with', ',000 to\\n', 'nsumer\\n ', ' We have', 'tal,\\n  t', ' sugar c', 'ontinued', 'all the ', 'orts at ', 'fect as ', 'asic goo', ' borrowe', 'with an ', '  The cl', 'generall', 'lrs.\\n   ', 'die,\" de', ' employe', ' around ', 'an estim', ' this we', 'e grim-f', 'n George', 'ng sugar', '\\n  the u', 't Jean-C', '\\n  month', 'y of sug', 'huge sto', 'fined su', 'any as 3', ' consume', ' \"We are', 'pital,\\n ', '100-poun', 't now wi', 't of wor', 'unsold 1', 'policy.\\n', 'ident Je', 'provisio', 'ar.\\n    ', ' the HAS', 'n an ord', 'he smugg', 'ment the', 'ons arou', 'ilk has ', 'neighbou', \"t that's\", 'un out o', ' this\\n  ', 'n Sugar ', 'n-Claude', ' unprece', ' at a\\n  ', 'ors yest', 'ING BLAM', 'NG OF HA', 'e stock ', 'ound, wh', ', where ', 'ho has f', 'ees and ', 'l local ', 'rgest em', ' will id', 'because ', \"that's c\", 'The clos', 'ands of ', 'en Felix', '  minimu', 'nue oper', ' the nei', ' was thi', ' Miami a', 'ontinue ', 'ns out o', 'ad been ', 'delivery', 'o, wides', 'ling, HA', ' SUGAR F', 'l sugar ', 'ss by su', 'c.\\n     ', '  saying', 'bags of ', 'of busin', 'acturers', 'yer clos', ' The clo', 'his\\n  na', 'warned p', 'upted se', 'stimated', 'ar cane ', 'ven the ', '\\n  addit', 'rehouse ', 'ut now w', ' sugar s', 'es and a', 'd the ca', 'ts ... I', '. Rigaud', '00 unsol', 'ugar Com', 'nal 1.5 ', 'ding HAS', 'profit a', 'gled fro', 'sumer\\n  ', 'cooking\\n', 'gling ev', \" HASCO's\", 'e\\n  afte', 'ple.\\n   ', 'ems on a', 'refined ', ' Lucien ', 'l idle 3', 'sional m', ' owed 7.', 'inican R', 'aiti fou', ' local m', 't at a h', 'nued the', 'elivery ', 's daily,', 'any owed', ' of unso', 'cturers,', '  wareho', '   HASCO', 'arlier t', 'g becaus', 'SMUGGLIN', \"ASCO's c\", 'ami and ', 'd affect', 'of unpre', ' 3,500 e', '     HAS', 'ocked wi', 'ay off w', 'bouring ', 'market p', 'and rese', ' workers', 'wage of ', 'eighbour', 'a\\n  ware', 's and ha', 'ere grim', '  hundre', 's ... It', '\" Rigaud', 'ompany s', 'a\\n  mini', 's, throw', 'ril 10,\"', 'ar Compa', '-growing', 'ng HASCO', 'ess by s', ' where g', 'We have ', 'fect 280', '34, who ', ' general', 'heir las', ' prices ', ' goods s', 'preceden', 'fining s', '0,000 sm', 'd an\\n  a', 'ntinue t', 'oking\\n  ', 'where gr', 's to die', 'importin', ' the sta', 'cien Fel', 'to pay o', 'ing us t', 'people. ', 'siness b', 'gar and ', ',\\n  the ', 'e, sugar', 'igaud sa', 'aude Duv', 'ably abo', 'cause of', 'estimate', 'any (HAS', 'apital,\\n', 'ting ref', 'ofit and', 'ed sever', 'cedented', \"ion's se\", 'e. Rigau', 'run out ', ' several', 'tinue to', 'rally es', 'money le', ' closing', 'e capita', 'as lower', '0 to\\n  4', '\\n  sayin', 'rs in re', ' earlier', 'public.\\n', 'ts doors', '  with s', 'r to pay', 'every em', 'he mill ', '    \"We ', 'eople. R', 'people.\\n', 'manufact', 'eorges D', 's were b', 'minican ', 'Sugar Co', '     The', 'r.\\n  We ', '45-kg) b', 'ned suga', 'rs were ', 'orld mar', 'y above\\n', 'yees and', 'f our hu', 'ilian go', 'ployed H', ' and the', 'mill war', 'military', 'ay, Spok', '\" the mi', ' BLAMED ', 'iti four', 'hen bega', 'le. Riga', ' Haitian', 'pril 10,', 'nsiderab', 'not cont', '  It is ', 'l,\\n  the', 'LAMED FO', 'y (HASCO', ' every e', 'sterday,', 'rs, thro', 'ing Domi', 'fled Hai', 'FOR OPEN', 'said HAS', 'r smuggl', 's this\\n ', 's doors ', 'l, flour', 'd resell', 'April 10', 'r contin', ' on an o', ' sugar\\n ', '000 smal', 'inue to ', 'ions aro', ' least s', \"O's clos\", ' to acce', ' mill wh', 't six pe', 'ng smugg', '  prices', 'ominican', 'f Haitia', ' \"Becaus', 'gar.\\n  W', 'om refin', 't least ', 'Dominica', 'ice, sug', 're. \"We\\'', 'rice, su', 'onths ag', 'Rigaud s', 'e of our', 'te\\n  wit', 'ggled Do', 'supports', 'who has ', 'uggling,', '30,000 t', 'ters in ', 'o accept', ' basic g', 'mpany ow', '    Laid', '    He s', 'loyees a', 'lian gov', 'go forbi', 'any said', ' planter', ' Company', 'ure of t', '      Th', 'ver-grow', 'ar\\n  at ', 'MUGGLING', 'h smuggl', 'unsold s', 'oyees an', 'st pay, ', ' because', 'ns,\" Rig', ' Republi', 'ue to ac', '0 small ', ' huge pr', 'ut the c', ' refinin', 's earned', 'rld mark', ' fled Ha', 'ch was t', 'rom refi', 'lowered ', 'econd la', 'o forbid', 've\\n  the', '  at wor', 'a huge p', 'lrs in o', 'dented a', 'ir last ', ' state c', 'TIAN SUG', 'use stoc', ' to\\n  40', '5-kg) ba', 'the usua', 'rom\\n  Mi', ', flour,', 'valier l', 'ted and ', 'y, consi', 'ti fourt', 'e of unp', ' had bor', 'itter ab', '0,\" the ', 'ced\\n  Du', 'd with a', 'many as ', 'red cons', 's proble', 'forbiddi', 'accept d', 'ud showe', 'his week', 'ocal man', 'ld affec', 'O compou', 'l manufa', 'ue opera', 'saying i', 'AN SUGAR', '000 peop', 'BLAMED F', 'id HASCO', 'and the ', 'red\\n  Lu', 'wed 7.6 ', ') bags o', 'SCO comp', 'e.\\n     ', 'We are c', 'of three', 'i and th', 'he Haiti', 'of Haiti', '\\n      S', 'nd canne', ' as cook', 'lix, 34,', '00,000 p', 'Jean-Cla', 'aitian A', 'rican Su', ' Jean-Cl', 'r huge s', 'ars ago ', 'six peop', '    The ', 'l 1.5 ml', 'et price', 'ugar mil', 'nd\\n  the', 'ned plan', 'ar and c', 's causin', 'of basic', 'lrs and ', 'orrowed ', '\\n  Lucie', 'ntinue o', 'nters in', 'G BLAMED', 'dreds of', ' has low', 'pay off ', 'ad borro', 'MED FOR ', 'lling it', 'upports ', ' earned ', 'elix, 34', 'ket pric', 'nd ever-', ' 40,000 ', 'nican Re', '  He sai', 'th all t', 'gling, H', 'ally est', 'clared\\n ', 'ien Feli', 'ces but ', 'r about ', 'ered con', 'eft to c', 'ive depe', '445,000 ', 'had been', ' importi', \"t's caus\", 'owing sm', 'he HASCO', 'm wage o', 'n Americ', '      HA', 'uggled f', ' He said', 'problems', 'of unsol', 'rned pla', 's five d', 'to accep', 'ent then', 'ur, rice', ' 34, who', ' (HASCO)', ' accept ', 'Spokesma', 'pports a', 'around t', ' lowered', 'an impor', 'se of ou', 'he closu', 'ey left ', 'an refin', 'ed an\\n  ', ' Haiti f', 'mporting', \"hat's ca\", '280,000 ', 'arned pl', 'd borrow', '.6 mln d', 'ter abou', 'ld marke', 'mpete\\n  ', \"d HASCO'\", 'ers, thr', 'hat repl', 'r by Duv', 'ian gove', ' receive', 'howed a\\n', '00 to 30', 'se of un', ' are clo', ' people.', 'lier las', 'very of ', '-Claude ', 'ut bankr', ' to 300,', 'eds of t', 'rned 4.2', 're of th', 'after Ap', 'ankrupte', \"t's the \", 'er last ', 'aud said', 'borrowed', 'hich was', 'losed it', 'been run', ',500 emp', '    Sinc', 'house st', ', Spokes', 't prices', ' ... It ', 'pt deliv', 'ge stock', 'workers.', 'aced\\n  D', ' pay off', '   At th', 'AITIAN S', '  two ye', 'il, flou', 't the cl', 'sure of ', ' sugar.\\n', '0,000 to', 'dependen', ' Dominic', 'ln dlrs ', ',\" the m', 'ith an e', 'ployer c', ' cooking', 'led Domi', 'led from', 'osure of', 'gs of su', 'ggled fr', 'e no mon', 'company ', 'bitter a', 'valier\\n ', 'sure. \"W', ' work.\\n ', 'ft to co', 'ne\\n  aft', 'rs and h', '\\n  regre', 'us to di', 'daily, c', 'o 300,00', 'd ever-g', 'ay,\\n  sa', '\\n  the p', ' blamed ', ' 30,000 ', ' compoun', 'tian Ame', 'd the po', 'pay, Spo', 'can refi', '  We hav', \" that's \", ' Sugar C', 'imated 4', ' and had', 'years ag', 'and cann', 'SCO from', 'all suga', 'mployees', \"at's cau\", 'olicy.\\n ', 'ual mini', ' grim-fa', '\"We are ', 'enerally', 'this\\n  n', 'll which', 'ed up to', 'ing of b', 'CO\\n  reg', '.5 mln d', 'their la', \"HASCO's \", 'ct as ma', 'UGAR FIR', 'n refine', 'e Duvali', '     It ', \" can't c\", ' it at a', 'ny (HASC', 'd said H', 'CO worke', 'Georges ', 'ast six ', 'F HAITIA', 'e to acc', ' that re', ' militar', ' many as', 'escale s', ' sugar m', 'tinued t', 'r and ca', 'efining ', '  receiv', 'G OF HAI', 'd been r', 'ry emplo', 'o contin', ' to die,', 'ed\\n  Duv', ' its doo', '     \"We', ' a\\n  min', 'kers lin', 'ple. Rig', '00 peopl', 's of tho', 'id-off w', 'x, 34, w', 'ccept de', \"n't comp\", 'e said t', '00-pound', '  \"But n', 'would af', '      He', 'bankrupt', 'faced wo', 'ompete\\n ', ' ago for', 'the Hait', 'rrowed a', 'n Republ', 'had borr', 'ove\\n  th', ' six peo', ' depende', 'ed that ', ' at a hu', 'fourteen', 'umer\\n  p', 't every ', '\\n  suppo', 't world ', 'of our h', 'valier f', 'le smugg', '   \"We a', ' would a', ' HASCO w', 'er close', 'n order ', 'cane\\n  a', 'ed a\\n  w', ' OF HAIT', 'nt that ', 're grim-', 'rs ago f', 't as man', 'tinue op', ' by Duva', 'y Duvali', 'und the ', 'cal manu', 'ds such ', '\\n      A', 'rbidding', \"te can't\", 'tate can', 'widescal', 'Laid-off', 'al local', 'sing at ', 'ing suga', 'day,\\n  s', 'nprecede', 'ud said.', ' a\\n  war', 'uge prof', ' ago, wi', 'three dl', 'tians ou', 'at a hug', ' neighbo', 'y.\\n     ', 'd showed', 'r last p', 'gan impo', 'e plante', 'gar\\n  at', 'last yea', 'hs ago, ', ' all the', 'ges D. R', 's second', 'Haitians', 't pay, S', 'uvalier ', 'usands o', 'ng becau', 'dlrs in ', 'an\\n  sup', \"mill's p\", 'governme', 'ng at a\\n', 'the gove', 'pany (HA', 'ng refin', 'licy.\\n  ', ' run out', ' stock o', 'g, HASCO', 'anters e', 'ions,\" R', 'ing it h', 'tian\\n  s', ' and res', 'flour, r', 'm-faced ', ' three d', 'throwing', 'erably a', 'tter abo', 'ned milk', 'months a', 'rations,', 'eclared\\n', 'wed a\\n  ', 'cannot c', 'CO from ', 'at every', ' governm', ' second ', 'ASCO)\\n  ', 'e state ', 'nican re', 'hree dlr', \"an't com\", 'ed 4.20 ', 'ar smugg', ', rice, ', 'ompany o', 's,\" Riga', '500 empl', ' oil, fl', ' to cont', '. It can', ' thousan', 'ny owed ', '\\n  with ', 'receive ', 'er-growi', ' refined', 'orbiddin', 'um would', ' years a', 'd\\n  the ', 'uggled D', 'ecause o', 'ng of ba', 'ce, suga', 'bly abov', 'n run ou', '1.5 mln ', '.20 dlrs', 'of thous', 'ude Duva', 'grets ..', 'this wee', 's 30,000', 'ports at', 'consider', '  Lucien', 's of sug', ', 34, wh', 'ave no m', 'der by D', 'er fled ', 'g us to ', 't delive', 'off work', 'ar cane\\n', ' bags of', 'sugar mi', '40,000 s', 'then beg', 'He said ', 'pany owe', ' about t', 'o years ', 'using us', 'rs daily', 'ned 4.20', ' 1.5 mln', 't the HA', 'h an est', 'erican S', ' have no', '\\n  at wo', 'r last y', ' after A', 'small su', 'alier fl', 'nment th', 'gling of', 'Presiden', ' as many', 'housands', 'e dead,\\n', ' of the ', 'wo years', 'CO)\\n  wi', 'r-growin', 'huge pro', 'oyed Hai', 'f the Ha', 'usual mi', 'sing bec', 'alier\\n  ', ' months ', 'goods su', 'rteen\\n  ', 'ed sugar', 'to conti', 'uggling ', 'aud blam', 'an order', 'e 3,500 ', 'ed with ', 'is gener', 'y left t', '. \"We\\'re', 'ing it a', ' regrets', 'd-off wo', 'r cane p', \"CO's clo\", 'd worker', ' 300,000', '\\n  natio', ' lined u', \"'re dead\", ' money l', 'd,\\n  and', 'n out of', ' that ev', 've no mo', 'w with a', ' HASCO c', ' and\\n  t', 'ery empl', ' closed ', 'SCO work', 'ated tha', 'he capit', 'osure. \"', 'cy.\\n    ', 'g\\n  hund', 'five dep', 'ouring D', \"e can't \", 'operatio', 'LING BLA', 'ar conti', 'dlrs and', 'doors ye', 'planters', 'compete\\n', 'igaud bl', 'arehouse', ' HASCO f', 'order by', 'o has fi', 'mpound, ', \" nation'\", ' cannot ', 'ld 100-p', 'the poli', 'the smug', 'employed', 'last pay', 'terday,\\n', 'cale smu', 'eplaced\\n', 'g even t', 's but ba', 'imum wag', '   Laid-', 'arket pr', '\\n  A sug', 'rofit an', 'the mill', 'showed a', 's cookin', 'loyer cl', 'ly estim', ' HASCO\\n ', ' order t', 'eselling', 'ed consu', 'sident J', 'GLING BL', 'ital,\\n  ', 'ndreds o', 'above\\n  ', ' an orde', 'okesman ', 't replac', 'l which ', 'employee', 'oyer clo', 'SUGAR FI', 'ed its d', ', sugar ', '   The c', ' 4.20 dl', 'elling i', '\\n  Duval', 'orges D.', ' were bi', '\\n  and i', ' closure', 'affect 2', 'idding H', '     \"Bu', 'sands of', '  Rigaud', 't that r', 'ted that', 'gaud sho', 'd\\n  Luci', 'ale smug', ' of thou', 'ter Apri', 'g\\n  oil,', 'prices b', 'al manuf', 'ney left', ' continu', 'pendents', 'rices an', 'with all', 'ufacture', 'kesman G', 'ent that', 'ause of ', 'ers earn', ' pay, Sp', 'wing\\n  h', 'as 30,00', '\\n  the c', 'placed\\n ', 'tions,\" ', 'ary-civi', 'f sugar.', ' largest', 'Lucien F', 'eive the', 'ghbourin', 'ditional', 'as five ', 'ggling o', 'd milk h', ' the pol', 'r mill w', 'have no ', 'arned 4.', 'e Haitia', \"'s probl\", ' of thre', 'by sugar', '-faced w', \"'s the g\", 'gaud bla', ' showed ', '  the pr', 'HAITIAN ', 'orkers w', '0 dlrs d', 'ods such', 'es and r', 'kers ear', 'r fled H', 'Haitian\\n', ' problem', 'ud said ', 'l milita', 'amed the', 'egan imp', 'e have n', 'itional ', 'ed the m', 'ing smug', '   Rigau', 'ix peopl', 'al milit', 'At the H', 'nsold 10', 'id.\\n    ', \"We're de\", '\\n  after', 'aitians ', 're closi', '\"Because', 's earlie', 'rers, th', ' hundred', 'lier thi', 'hat ever', 'st emplo', 'compound', 'ing even', 'least si', 'fter Apr', 'blamed t', 'our, ric', 'an gover', 'e neighb', ' Laid-of', 'canned m', 'ASCO fro', '    \"But', 'der to p', 'mln dlrs', 'itary-ci', 'ne plant', 'ing\\n  oi', \"can't co\", 'ng, HASC', ' 280,000', '0,000 pe', 'bove\\n  t', 'al,\\n  th', \" mill's \", ' last pa', 'ined up ', 'ing beca', 'stocked ', 'y off wo', 'ly above', 'o die,\" ', ' estimat', 'affect a', 'ers earl', ' of unpr', 'nters ea', 're dead,', 'ny as 30', 'ut of wo', ' It cann', 'by Duval', 'ing, HAS', 'and had ', 'e usual ', 'ect as m', 'd had bo', 'ek.\\n    ', 'year con', 'GAR FIRM', ' of Hait', ' order b', 'O\\n  regr', 'owed a\\n ', 'he gover', 'kg) bags', ' sugar a', 'ith all ', 'out of w', '\\n  oil, ', 'can Suga', 'teen\\n  m', 's lowere', 'the clos', 't year c', 'from ref', ' the com', ' the Hai', 'continue', ', widesc', 's such a', 'g refine', ' support', 'the HASC', 'nd, wher', ' manufac', 'f worker', 'nds of H', 'ining su', ' regions', ' dlrs an', 'losing a', '  the co', 'ing at a', 'OPENING ', 'cked wit', \"ill's pr\", 'ts at le', 'd said.\\n', 'e mill w', '80,000 t', ' it had ', ' cane\\n  ', 'rs earne', 'Republic', 'gled Dom', 'rk.\\n    ', 'rkers ea', 'eir last', 'workers ', 'al 1.5 m', 'se stock', 'are clos', '00 small', 'ill whic', ' their l', 'cept del', 'c goods ', 'er this ', '\\n  recei', '  the us', 'ooking\\n ', 'rkers we', 'use of u', 'h all th', 'ggling e', 'but bank', ', throwi', 'can Repu', 'gar smug', 'ier\\n  tw', 'pound, w', 'e HASCO ', 'ling eve', 'descale ', 'that rep', 'r.\\n     ', 'ar mill ', 'ed\\n  Luc', 'aid-off ', 'ane\\n  af', 'It canno', 'ns aroun', 'o money ', 'consumer', 'e stocke', '  Duvali', 'nerally ', 'basic go', ' and eve', '  Since ', 'ry of su', 's ago, w', 'le 3,500', 'out the ', 'regions ', 'es D. Ri', 'd sugar,', 'rably ab', 'ers line', \"d it's t\", 'nd resel', 'litary-c', 'orkers l', 'urers, t', 'e. \"We\\'r', 'ds of th', 'nd affec', 'the stat', 'laced\\n  ', 'ned up t', 'owered c', 'were bit', 'ican Rep', ' Rigaud ', 'ians out', 'out of b', 'rupted s', \"nation's\", 'th an es', 'e compan', 'hrowing\\n', '     \"Be', 'blic.\\n  ', '     Sin', 'American', '   Since', 'dent Jea', 'orting r', ',000 peo', 'lamed th', ' \"But no', ' no mone', 'ck of un', ' (45-kg)'}\n"
     ]
    }
   ],
   "source": [
    "print(frags[\"TOTEST\"])"
   ]
  },
  {
   "cell_type": "markdown",
   "metadata": {},
   "source": [
    "Now we compute the scores for each fragment. To keep things simple, I choose $h$ and $\\ell$ to both be 2, and thus need four scores. This will take a little time to run, 20 seconds or so on my machine. I print out the scores of `TOTEST`. So at this point each document, no matter how long, has be transformed into 4 numbers."
   ]
  },
  {
   "cell_type": "code",
   "execution_count": 23,
   "metadata": {},
   "outputs": [],
   "source": [
    "h=2\n",
    "l=2\n",
    "scores=multipleScoreDict(frags,h*l)"
   ]
  },
  {
   "cell_type": "code",
   "execution_count": 24,
   "metadata": {},
   "outputs": [
    {
     "name": "stdout",
     "output_type": "stream",
     "text": [
      "[2628, 1380, 420, 74]\n"
     ]
    }
   ],
   "source": [
    "print(scores[\"TOTEST\"])"
   ]
  },
  {
   "cell_type": "markdown",
   "metadata": {},
   "source": [
    "Now we build the search structure. In our example with $h$ and $\\ell$ being 2 each, given a query document with scores `[s1, s2, s3, s4]` we want to be able to quickly check if there is a document with scores `[t1 t2 t3 t4]` with ($s_1=t_1$ and $s_2=t_2$) or ($s_3=t_3$ and $s_4=t_4$). Let's focus first on checking if $s_1=t_1$ and $s_2=t_2$. This can be done by having a dictionary, call it $d_1$ where we store the tuple $(t_1,t_2)$ as the key and a list of documents having this $(t_1,t_2)$ as the value. Then to answer the first part of the query we just see if $(q_1,q_2)$ is in $d_1$, which takes constant time. We do the same for each of the $\\ell$ parts, in this case 2, each with a different dictionary.\n",
    "\n",
    "Here is the code to create these dictionaries, note we exclude `TOTEST` as we want to search for it, and not have it stored."
   ]
  },
  {
   "cell_type": "code",
   "execution_count": 25,
   "metadata": {},
   "outputs": [],
   "source": [
    "SearchStructure=[ {} for i in range(l)]\n",
    "for id in data:\n",
    "    if id != \"TOTEST\":\n",
    "        for ll in range(l):\n",
    "            group=tuple(scores[id][ll*h:(ll+1)*h])\n",
    "            if group not in SearchStructure[ll]:\n",
    "                SearchStructure[ll][group]=[]\n",
    "            SearchStructure[ll][group].append(id)\n"
   ]
  },
  {
   "cell_type": "markdown",
   "metadata": {},
   "source": [
    "Now here is the code to perform the tests. This is just one lookup in each of the $\\ell=2$ dictionaries. We search for the `TOTEST` document and with any luck find the original document, the one with \"CLOSURE\" in the title, and no others. (When I run it it works, but there is always a chance of failure....) \n",
    "\n",
    "I compute the Jaquard similarity as well between the \"TOTEST\" document and any that are returned. This is a nice way to double check to see if any false positives are returned, and is cheap if there are not many. (I don't get any)."
   ]
  },
  {
   "cell_type": "code",
   "execution_count": 26,
   "metadata": {},
   "outputs": [
    {
     "name": "stdout",
     "output_type": "stream",
     "text": [
      "{'test/16093'}\n"
     ]
    }
   ],
   "source": [
    "searchResults=set()\n",
    "for ll in range(l):\n",
    "    group=tuple(scores[\"TOTEST\"][ll*h:(ll+1)*h])\n",
    "    if group in SearchStructure[ll]:\n",
    "        searchResults.update(SearchStructure[ll][group])\n",
    "print(searchResults)"
   ]
  },
  {
   "cell_type": "code",
   "execution_count": 27,
   "metadata": {},
   "outputs": [
    {
     "name": "stdout",
     "output_type": "stream",
     "text": [
      "0.9848970251716247\n",
      "SMUGGLING BLAMED FOR CLOSURE OF HAITIAN SUGAR FIRM\n",
      "  A sugar mill which was this\n",
      "  nation's second largest employer closed its doors yesterday,\n",
      "  saying it had been run out of business by sugar smuggled from\n",
      "  Miami and the neighbouring Dominican Republic.\n",
      "      The closure of the Haitian American Sugar Company (HASCO)\n",
      "  will idle 3,500 employees and affect as many as 30,000 to\n",
      "  40,000 small sugar cane planters in regions around the capital,\n",
      "  the company said.\n",
      "      \"Because of unprecedented and ever-growing smuggling, HASCO\n",
      "  regrets ... It cannot continue to accept delivery of sugar cane\n",
      "  after April 10,\" the mill warned planters earlier this week.\n",
      "      Since President Jean-Claude Duvalier fled Haiti fourteen\n",
      "  months ago, widescale smuggling of basic goods such as cooking\n",
      "  oil, flour, rice, sugar and canned milk has lowered consumer\n",
      "  prices but bankrupted several local manufacturers, throwing\n",
      "  hundreds of thousands of Haitians out of work.\n",
      "      At the HASCO compound, where grim-faced workers lined up to\n",
      "  receive their last pay, Spokesman Georges D. Rigaud showed a\n",
      "  warehouse stocked with an estimated 445,000 unsold 100-pound\n",
      "  (45-kg) bags of sugar.\n",
      "      \"We are closing because of our huge stock of unsold sugar.\n",
      "  We have no money left to continue operations,\" Rigaud said.\n",
      "      He said the company owed 7.6 mln dlrs and had borrowed an\n",
      "  additional 1.5 mln dlrs in order to pay off workers.\n",
      "      Rigaud blamed the mill's problems on an order by Duvalier\n",
      "  two years ago forbidding HASCO from refining sugar.\n",
      "      He said the government then began importing refined sugar\n",
      "  at world market prices and reselling it at a huge profit and\n",
      "  the provisional military-civilian government that replaced\n",
      "  Duvalier last year continued the policy.\n",
      "      \"But now with all the smuggling even the state can't compete\n",
      "  with smuggled Dominican refined sugar,\" Rigaud said.\n",
      "      HASCO workers earned 4.20 dlrs daily, considerably above\n",
      "  the usual minimum wage of three dlrs.\n",
      "      It is generally estimated that every employed Haitian\n",
      "  supports at least six people. Rigaud said HASCO's closing at a\n",
      "  minimum would affect 280,000 to 300,000 people.\n",
      "      Laid-off workers were bitter about the closure. \"We're dead,\n",
      "  and it's the government that's causing us to die,\" declared\n",
      "  Lucien Felix, 34, who has five dependents.\n",
      "  \n",
      "\n",
      "\n"
     ]
    }
   ],
   "source": [
    "for result in searchResults:\n",
    "    print(jaquard(fragments(data[result],8),fragments(data[\"TOTEST\"],8)))\n",
    "    print(data[result])"
   ]
  },
  {
   "cell_type": "markdown",
   "metadata": {},
   "source": [
    "How fast was this to query? About time linear in the query document to generate the fragments and score, plus only $O(l)$ for the query itself. In our case $l=2$! \n",
    "\n",
    "Recall before to query $m$ documents would have taken $O(mnd)$ time, where now only $O(m(l+d))$, which in the typical case where $l \\leq d$ is just $O(md)$, which is the time to read in the query documents. This savings of $m$ is the difference between a method which is impractical for large amount of data and one that works quite well."
   ]
  },
  {
   "cell_type": "markdown",
   "metadata": {},
   "source": [
    "# Homework\n",
    "\n",
    "In the last example I included the search string into the data set before the scores were generated. Realistically, however, the flow is usually you do not have the query in advance (and there is usually more than one query). Describe (or better, code!) what changes need to be made if we want to first do all the preprocessing on the data to be searched, and then receive the search strings one at a time. When we receive these search strings we only want to look at a very small amount of the data to be searched.\n"
   ]
  }
 ],
 "metadata": {
  "kernelspec": {
   "display_name": "Python 3",
   "language": "python",
   "name": "python3"
  },
  "language_info": {
   "codemirror_mode": {
    "name": "ipython",
    "version": 3
   },
   "file_extension": ".py",
   "mimetype": "text/x-python",
   "name": "python",
   "nbconvert_exporter": "python",
   "pygments_lexer": "ipython3",
   "version": "3.8.8"
  }
 },
 "nbformat": 4,
 "nbformat_minor": 4
}
