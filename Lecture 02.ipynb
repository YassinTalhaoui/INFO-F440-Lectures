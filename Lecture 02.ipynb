{
 "cells": [
  {
   "cell_type": "markdown",
   "metadata": {},
   "source": [
    "# Lecture 2"
   ]
  },
  {
   "cell_type": "markdown",
   "metadata": {},
   "source": [
    "# Part 1: A Crash course in object-oriented programming"
   ]
  },
  {
   "cell_type": "markdown",
   "metadata": {},
   "source": [
    "This part is for those of you who have never done any object-oriented programming. That is, in Python, you have never used the keyword `class`. Object-oriented programming is a huge topic of which there are entire courses, and here I am basically going to give one example programmed in a non-object oriented way, and then show how to make it object-oriented, and hopefully you will see the benefits.\n",
    "\n",
    "The example I will use is this: Suppose you wanted to have the ability to deal with fractions. You want to create them, print them, and do arithmetic with them. And, importantly, you always want them to be in lowest terms: $\\frac{6}{15}$ should be $\\frac{2}{5}$. Additionally, the denominator should never be negative."
   ]
  },
  {
   "cell_type": "markdown",
   "metadata": {},
   "source": [
    "## Without objects\n",
    "\n",
    "What is a fraction? Two numbers. There are two obvious ways to glue together two numbers in Python, as a list or as a tuple. So we have a choice to make, should $\\frac{2}{3}$ be $[2,3]$ or $(2,3)$? The choice comes down to whether we want our factions to be changeable or not (the technical term is mutable). Both would be reasonable choices, but we will choose the tuple representation, as numbers and strings in python are immutable, so this better matches what is there already. As a bonus, it make them hashable.\n",
    "\n",
    "Given that we have made this decision, we need to decide what functions to write, and then write them.\n",
    "\n",
    "The first, and most complex, function to write is a function that takes a numerator and denominator and returns a tuple containing the fraction. We will call this `fractionMake`. It is complicated as we need to make sure the fraction is in lowest terms, there is no division by zero, and the denominator is not negative. We also code a helper function, `gcd`, which implements the [method of Euclid](https://en.wikipedia.org/wiki/Euclidean_algorithm) to compute the GCD, which is needed to get the fraction into lowest terms.\n",
    "\n",
    "Then we will have a number of functions that take one or two tuples that represent fractions, and do things like add, compare, and convert to string. These are all straightforward.\n"
   ]
  },
  {
   "cell_type": "code",
   "execution_count": 1,
   "metadata": {},
   "outputs": [],
   "source": [
    "def gcd(x,y):\n",
    "    if x == 0 :\n",
    "        return y\n",
    "    return gcd(y%x,x)\n",
    "\n",
    "def fractionMake(numerator,denominator):\n",
    "    if denominator==0:\n",
    "        raise ZeroDivisionError(str(numerator)+\"/\"+str(denominator))       \n",
    "    g=gcd(numerator,denominator)\n",
    "    numerator=numerator//g\n",
    "    denominator=denominator//g\n",
    "    if denominator<0:\n",
    "        numerator *= -1\n",
    "        denominator *= -1\n",
    "    return (numerator,denominator)\n",
    "\n",
    "def fractionGetNumerator(fraction):\n",
    "    return fraction[0]\n",
    "\n",
    "def fractionGetDenominator(fraction):\n",
    "    return fraction[1]\n",
    "\n",
    "def fractionToString(fraction):\n",
    "    numerator,denominator=fraction\n",
    "    return str(numerator)+'/'+str(denominator)\n",
    "\n",
    "def fractionAdd(fractionA,fractionB):\n",
    "    numeratorA,denominatorA=fractionA\n",
    "    numeratorB,denominatorB=fractionB\n",
    "    return fractionMake(numeratorA*denominatorB+numeratorB*denominatorA,\n",
    "                    denominatorA*denominatorB)\n",
    "\n",
    "def fractionEquals(fractionA,fractionB):\n",
    "    return fractionA==fractionB\n",
    "\n",
    "def fractionLessThan(fractionA,fractionB):\n",
    "    numeratorA,denominatorA=fractionA\n",
    "    numeratorB,denominatorB=fractionB\n",
    "    return numeratorA*denominatorB < numeratorB*denominatorA"
   ]
  },
  {
   "cell_type": "markdown",
   "metadata": {},
   "source": [
    "Here is some sample code for computing $\\displaystyle \\sum_{i=1}^{10}\\frac{2}{i}$"
   ]
  },
  {
   "cell_type": "code",
   "execution_count": 2,
   "metadata": {},
   "outputs": [
    {
     "name": "stdout",
     "output_type": "stream",
     "text": [
      "2/1\n",
      "3/1\n",
      "11/3\n",
      "25/6\n",
      "137/30\n",
      "49/10\n",
      "363/70\n",
      "761/140\n",
      "7129/1260\n"
     ]
    }
   ],
   "source": [
    "x=fractionMake(0,1)\n",
    "for i in range(1,10):\n",
    "    x=fractionAdd(x,fractionMake(2,i))\n",
    "    print(fractionToString(x))"
   ]
  },
  {
   "cell_type": "markdown",
   "metadata": {},
   "source": [
    "## With objects\n",
    "\n",
    "Notice that in the above code, `fractionMake` makes a fraction, and all the other functions take a fraction as the first parameter.\n",
    "\n",
    "In object oriented programming, the idea is to bundle together data and the functions that act on the data together into an *object*. In the object, the functions that act on the data are called *methods*\n",
    "\n",
    "To make the above code object-oriented, we do the following:\n",
    "- Start with `class fraction1:` and indent the rest. `fraction1` is the name of the class.\n",
    "- Replace `fractionMake` with the special function `__init__`. This is called a constructor. This no longer returns anything.\n",
    "- All functions have as their first parameter `self`\n",
    "- We can use `self.XXX` to store anything we want inside the fraction. In our case we want to store the numerator and denominator, so we use `self.numerator` and `self.denominator` for this purpose, replacing all of the indexing and unpacking of the tuple.\n",
    "- We remove `Fraction` from the name of the functions as this is redundant now that they are in the `fraction1` class\n",
    "- To better match `self`, the functions that take two fractions will call the second one `other`\n"
   ]
  },
  {
   "cell_type": "code",
   "execution_count": 35,
   "metadata": {},
   "outputs": [],
   "source": [
    "\n",
    "class fraction1:\n",
    "    def __init__(self,numerator,denominator):\n",
    "        if denominator==0:\n",
    "            raise ZeroDivisionError(str(numerator)+\"/\"+str(denominator))       \n",
    "        g=gcd(numerator,denominator)\n",
    "        numerator=numerator//g\n",
    "        denominator=denominator//g\n",
    "        if denominator<0:\n",
    "            numerator *= -1\n",
    "            denominator *= -1\n",
    "        self.numerator=numerator\n",
    "        self.denominator=denominator\n",
    "\n",
    "    def getNumerator(self):\n",
    "        return self.numerator\n",
    "\n",
    "    def getDenominator(self):\n",
    "        return self.denominator\n",
    "\n",
    "    def toString(self):\n",
    "        return str(self.numerator)+'/'+str(self.denominator)\n",
    "\n",
    "    def add(self,other):\n",
    "        return fraction1(self.numerator*other.denominator+other.numerator*self.denominator,\n",
    "                        self.denominator*other.denominator)\n",
    "\n",
    "    def equals(self,other):\n",
    "        return self.numerator==other.numerator and self.denominator==other.denominator\n",
    "    \n",
    "    def lessThan(self,other):\n",
    "        return self.numerator*other.denominator < self.numerator*other.denominator\n",
    "\n"
   ]
  },
  {
   "cell_type": "markdown",
   "metadata": {},
   "source": [
    "Now observe how the small piece of sample code changes:\n",
    "    \n",
    "- `fractionMake(0,1)` has been replaced with `fraction1(0,1)` where `fraction1` is the name of the class.\n",
    "- `fractionToString(x)` becomes `x.toString`\n",
    "- `fractionAdd(x,fractionMake(2,i))` becomes `x.toString()`\n",
    "\n",
    "These reflect the fact that now `x` is not a tuple but an *instance* of a class, in this case `fraction1`. Observe that when we write `x.add(y)` the method `add(this,other)` is called with `this` being `x` and `other` being `y`. "
   ]
  },
  {
   "cell_type": "code",
   "execution_count": 34,
   "metadata": {},
   "outputs": [
    {
     "name": "stdout",
     "output_type": "stream",
     "text": [
      "2/1\n",
      "3/1\n",
      "11/3\n",
      "25/6\n",
      "137/30\n",
      "49/10\n",
      "363/70\n",
      "761/140\n",
      "7129/1260\n"
     ]
    },
    {
     "ename": "NameError",
     "evalue": "name 'fraction1' is not defined",
     "output_type": "error",
     "traceback": [
      "\u001b[0;31m---------------------------------------------------------------------------\u001b[0m",
      "\u001b[0;31mNameError\u001b[0m                                 Traceback (most recent call last)",
      "Cell \u001b[0;32mIn[34], line 6\u001b[0m\n\u001b[1;32m      3\u001b[0m     x\u001b[38;5;241m=\u001b[39mfractionAdd(x,fractionMake(\u001b[38;5;241m2\u001b[39m,i))\n\u001b[1;32m      4\u001b[0m     \u001b[38;5;28mprint\u001b[39m(fractionToString(x))\n\u001b[0;32m----> 6\u001b[0m x\u001b[38;5;241m=\u001b[39m\u001b[43mfraction1\u001b[49m(\u001b[38;5;241m0\u001b[39m,\u001b[38;5;241m1\u001b[39m)\n\u001b[1;32m      7\u001b[0m \u001b[38;5;28;01mfor\u001b[39;00m i \u001b[38;5;129;01min\u001b[39;00m \u001b[38;5;28mrange\u001b[39m(\u001b[38;5;241m1\u001b[39m,\u001b[38;5;241m10\u001b[39m):\n\u001b[1;32m      8\u001b[0m     x\u001b[38;5;241m=\u001b[39mx\u001b[38;5;241m.\u001b[39madd(fraction1(\u001b[38;5;241m2\u001b[39m,i))\n",
      "\u001b[0;31mNameError\u001b[0m: name 'fraction1' is not defined"
     ]
    }
   ],
   "source": [
    "x=fractionMake(0,1)\n",
    "for i in range(1,10):\n",
    "    x=fractionAdd(x,fractionMake(2,i))\n",
    "    print(fractionToString(x))\n",
    "    \n",
    "x=fraction1(0,1)\n",
    "for i in range(1,10):\n",
    "    x=x.add(fraction1(2,i))\n",
    "    print(x.toString())"
   ]
  },
  {
   "cell_type": "markdown",
   "metadata": {},
   "source": [
    "## Magic methods\n",
    "\n",
    "You have certainly seen functions such as `str(x)` and `hash(x)`. You have also certainly seen expressions like `2+3`. You have probably only used them on built-in classes such as numbers, strings, and lists. However, you can get these and many more to work for classes you create through the use of magic methods. \n",
    "\n",
    "- `str(x)` works if you have defined `__str__(self)`\n",
    "- `hash(x)` works if you have defined `__hash__(self)`\n",
    "- `x+y` works of you have defined `__add__(self,other)`\n",
    "\n",
    "There are many more, see the documentation, every operation in Python has a corresponding magic method.\n",
    "\n",
    "We now re-write the above, using the magic methods, along with a few other changes:\n",
    "\n",
    "- We put the `gcd` function inside the class. Note that this does not have `self` as its first parameter. It works exactly the same as when it was outside of the class, except that we need to call it with `Fraction.` first. Although gcd does not directly act on the data of our class, as it is only used by our class, it logically belongs inside it.\n",
    "- The function `gcd` as well as `self.numerator` and `self.denominator` are meant to be used only by the methods of the class. We do not want the user of the class to be able to change `self.numerator` directly. Thus we change the name to add an underscore before. Such functions and variable are not accessible outside of the class.\n",
    "- We add a `__hash__`, which simply hashes the hashes of the numerator and denominator.\n"
   ]
  },
  {
   "cell_type": "code",
   "execution_count": 41,
   "metadata": {},
   "outputs": [],
   "source": [
    "class Fraction:\n",
    "    def _gcd(x,y):\n",
    "        if x == 0 :\n",
    "            return y\n",
    "        return Fraction._gcd(y%x,x)\n",
    "    def __init__(self,numerator,denominator):\n",
    "        if denominator==0:\n",
    "            raise ZeroDivisionError(str(numerator)+\"/\"+str(denominator))       \n",
    "        g=Fraction._gcd(numerator,denominator)\n",
    "        numerator=numerator//g\n",
    "        denominator=denominator//g\n",
    "        if denominator<0:\n",
    "            numerator *= -1\n",
    "            denominator *= -1\n",
    "        self._numerator=numerator\n",
    "        self._denominator=denominator\n",
    "    def __str__(self):\n",
    "        return str(self._numerator)+'/'+str(self._denominator)\n",
    "    def __repr__(self):\n",
    "        return str(self)\n",
    "    def getNumerator(self):\n",
    "        return self._numerator\n",
    "    def getDenominator(self):\n",
    "        return self._denominator\n",
    "    def __eq__(self,other):\n",
    "        return self._numerator==other._numerator and self._denominator==other._denominator\n",
    "    def __add__(self,other):\n",
    "        return Fraction(self._numerator*other._denominator+other._numerator*self._denominator,\n",
    "                        self._denominator*other._denominator)\n",
    "    def __mul__(self,other):\n",
    "        return Fraction(self._numerator*other._numerator,self._denominator*other._denominator)\n",
    "    def __div__(self,other):\n",
    "        return Fraction(self._numerator*other._denominator,self._denominator*other._numerator)\n",
    "    def __hash__(self):\n",
    "        return hash( (self._numerator,self._denominator) )\n",
    "        "
   ]
  },
  {
   "cell_type": "code",
   "execution_count": 42,
   "metadata": {},
   "outputs": [
    {
     "name": "stdout",
     "output_type": "stream",
     "text": [
      "[1/1, 1/2, 1/3, 1/4, 1/5, 1/6, 1/7, 1/8, 1/9]\n",
      "7129/2520\n",
      "False\n",
      "-3550055125485641917\n"
     ]
    }
   ],
   "source": [
    "S=[Fraction(1,n) for n in range(1,10)]\n",
    "print(S)\n",
    "print(sum(S,Fraction(0,1))) # See how sum uses our __add__function\n",
    "print(Fraction(3,4)==Fraction(6,9))\n",
    "print(hash(Fraction(5,10)))"
   ]
  },
  {
   "cell_type": "markdown",
   "metadata": {},
   "source": [
    "There is still much more work to make this into a finished class. All the arithmetic and comparison operators need to be written, and it would be good if we could do things like add fractions to integers."
   ]
  },
  {
   "cell_type": "markdown",
   "metadata": {},
   "source": [
    "# Part 2: Storing unordered data\n",
    "\n",
    "There are many different types of data, but the most simple is unordered data. \n",
    "\n",
    "This is where each data item has some key, and all you want to do to maintain a collection of data and support simple operations such as insert, delete, and membership queries. By membership queries, I mean queries where you give a key and ask if there is a data item stored with this key and the answer is true or false. This is often called a set.\n",
    "\n",
    "A slightly more powerful structure allows key,value pairs. Here the key is what we search for, and the value is additional data that goes along for the ride. When we search for a key in such a structure, if a key,value pair is in the structure, the value is returned. Such a structure is often called an associative array, in Python this is a dictionary.\n",
    "\n",
    "The most efficient way to implement both of these structures is through a data structure known as a hash table.\n",
    "\n",
    "Note that the approaches we describe today are not appropriate for data where you want to do non-exact queries. Meaning, for example, to find data close to a query or within a certain range. These will be topics for another day.\n"
   ]
  },
  {
   "cell_type": "markdown",
   "metadata": {},
   "source": [
    "# Hash tables\n",
    "\n",
    "Hash tables are the go-to structure for when you want to quickly store and retrieve items by an exact search. That is, they are great if you want to know \"Is the item with key XXX in the table?\" but useless if you want to know \"Give me the largest item with key at most XXX\" or \"Tell me know many items have keys at most XXX\", for these operations a Binary Search Tree is needed.\n",
    "\n",
    "Hash tables are very simple. Let $n$ be the current number of items in a hash table. A hash table is simply a list of $k$ buckets, where $k$ is typically chosen to be approximately $cn$ for some small constant.\n",
    "\n",
    "To insert an item `x` with hash value `h(x)`, we simply put it in the bucket `h(x) mod k`. To find an item `x` with hash `h(x)` we simply exhaustively search the bucket `h(x) mod k`.\n",
    "\n",
    "Assuming a perfect hash function, and $k=cn$, the expected size of each bucket is $c$, and given an item $x$, the expected size of the `h(x) mod k`th bucket is at most $1+c$. Thus each bucket can be represented as a list, and when we search we can just use an exhaustive search as the lists are expected to be small.\n",
    "\n",
    "Below I present a python implementation of this idea. This is a class that stores key,value pairs, where the key must be hashable but the value can be anything. The operations are\n",
    "\n",
    "- `H=Hash.init(size)` makes a new hash table of given size\n",
    "- `H[k]=v` (`__setitem__`) if there is a pair `(k,v')` stored already, replaces `v'` with `v`, otherwise adds `(k,v)` to the table\n",
    "- `H[k]` (`__getitem__`) returns the value if `k` is in the table\n",
    "- `k in H` (`__contains__`) returns if there is a pair stored with key `k`\n",
    "- `delete H[k]` (`__delitem__`) deletes the pair with key `k` \n",
    "- `str(H)` (`__str__`) Shows the data currently stored\n",
    "- `repr(H)` (`__repr__`) Shows the current structure of the hash table\n",
    "\n",
    "The implementation stores the hash table itself as a list `self._A`. This is private as the user of the class should never directly access the hash table. Each bucket is also a list. Each item in a bucket is a list of size two storing `[key,value]` (note we want to be able to change `value` so we don't use a tuple.\n"
   ]
  },
  {
   "cell_type": "code",
   "execution_count": 18,
   "metadata": {},
   "outputs": [],
   "source": [
    "class HashTable:\n",
    "    def __init__(self,size):\n",
    "        self._A=[ [] for i in range(size)]\n",
    "        \n",
    "    def _bucket(self,key):\n",
    "        #print(hash(key))\n",
    "        #print(hash(key)%10)\n",
    "        return self._A[hash(key)%len(self._A)]\n",
    "    \n",
    "    def __setitem__(self,key,value):\n",
    "        bucket=self._bucket(key)\n",
    "        for item in bucket:\n",
    "            if item[0]==key:\n",
    "                item[1]=value\n",
    "                return\n",
    "        bucket.append([key,value])\n",
    "        \n",
    "    def __getitem__(self,key):\n",
    "        for k,v in self._bucket(key):\n",
    "            if k==key:\n",
    "                return v\n",
    "        raise KeyError(key)\n",
    "        \n",
    "    def __contains__(self,key):\n",
    "        for k,v in self._bucket(key):\n",
    "            if k==key:\n",
    "                return True\n",
    "        return False\n",
    "    \n",
    "    def __delitem__(self,key):\n",
    "        bucket=self._bucket(key)\n",
    "        for i in range(len(bucket)):\n",
    "            if bucket[i][0]==key:\n",
    "                del bucket[i]\n",
    "                return\n",
    "        raise KeyError(str(key))\n",
    "        \n",
    "    def __str__(self):\n",
    "        items=[\"{\"]\n",
    "        for bucket in self._A:\n",
    "            for x in bucket:\n",
    "                items.append(x)\n",
    "        items.append('}')\n",
    "        return \"\".join((str(x) for x in items))\n",
    "\n",
    "    def __repr__(self):\n",
    "        rep=\"\"\n",
    "        for i in range(len(self._A)):\n",
    "            rep+=str(i)+\": \"+str(self._A[i])+\"\\n\"\n",
    "        return rep"
   ]
  },
  {
   "cell_type": "code",
   "execution_count": 21,
   "metadata": {},
   "outputs": [
    {
     "name": "stdout",
     "output_type": "stream",
     "text": [
      "0: []\n",
      "1: [['Data1', 'Value1'], ['Data8', 'Value8']]\n",
      "2: [['Data2', 'Value2'], ['Data4', 'Value4']]\n",
      "3: [['Data6', 'Value6']]\n",
      "4: [['Data0', 'Value0']]\n",
      "5: []\n",
      "6: []\n",
      "7: []\n",
      "8: [['Data3', 'Value3'], ['Data5', 'Value5']]\n",
      "9: [['Data7', 'Value7'], ['Data9', 'Value9']]\n",
      "\n",
      "False\n",
      "True\n",
      "8\n",
      "Value2\n",
      "0: []\n",
      "1: [['Data8', 'Value8']]\n",
      "2: [['Data2', 'Value2'], ['Data4', 'Value4']]\n",
      "3: [['Data6', 'Value6']]\n",
      "4: [['Data0', 'Value0']]\n",
      "5: []\n",
      "6: []\n",
      "7: []\n",
      "8: [['Data3', 'Value3'], ['Data5', 'Replaced']]\n",
      "9: [['Data7', 'Value7'], ['Data9', 'Value9']]\n",
      "\n",
      "{['Data8', 'Value8']['Data2', 'Value2']['Data4', 'Value4']['Data6', 'Value6']['Data0', 'Value0']['Data3', 'Value3']['Data5', 'Replaced']['Data7', 'Value7']['Data9', 'Value9']}\n"
     ]
    }
   ],
   "source": [
    "H=HashTable(10)\n",
    "for i in range(10):\n",
    "    H[\"Data\"+str(i)]=\"Value\"+str(i)\n",
    "print(repr(H))\n",
    "\n",
    "print(3 in H)\n",
    "print('Data3' in H)\n",
    "print(hash('Data3')%10)\n",
    "del H[\"Data1\"]\n",
    "H[\"Data5\"]=\"Replaced\"\n",
    "print(H[\"Data2\"])\n",
    "print(repr(H))\n",
    "print(str(H))"
   ]
  },
  {
   "cell_type": "markdown",
   "metadata": {},
   "source": [
    "# Python dictionaries\n",
    "\n",
    "Python dictionaries are just hash tables. Of course they are more complete then the few lines of code above. You do not need to give the size of the hash table in advance, as they will automatically resize if it gets too big or small. They also support various forms of iteration (which means you can have code like this work: `for x in H:`), I won't describe how to do this but certainly read about it elsewhere if you are interested."
   ]
  },
  {
   "cell_type": "code",
   "execution_count": 5,
   "metadata": {},
   "outputs": [
    {
     "name": "stdout",
     "output_type": "stream",
     "text": [
      "that\n"
     ]
    }
   ],
   "source": [
    "H={}\n",
    "H[\"This\"]=\"that\"\n",
    "print(H[\"This\"])"
   ]
  },
  {
   "cell_type": "markdown",
   "metadata": {},
   "source": [
    "# Bit arrays\n",
    "\n",
    "Suppose you wanted to have an array of boolean or 0/1 values. If you use a list in Python, this will take up very much space. Here I will show you how to create a simple class to store an array of bits very simply. The key is to make use of python's [low-level arrays](https://docs.python.org/3/library/array.html). Normal lists in python are very flexible and store any type of data, whereas with low level arrays you need to say in advance what kind of data will be stored.\n",
    "\n",
    "We will store an array of bytes, each of which is 8 bits. We use the bit operations to extract out individual bits."
   ]
  },
  {
   "cell_type": "code",
   "execution_count": 44,
   "metadata": {},
   "outputs": [],
   "source": [
    "import array\n",
    "import sys\n",
    "\n",
    "class BitArray:\n",
    "    def __init__(self,size):\n",
    "        self._bits=8\n",
    "        self._sizeInBits=size\n",
    "        self._A=array.array(\"B\",(0 for i in range(self._index(size)+1)))\n",
    "    def _index(self,index):\n",
    "        return index//self._bits\n",
    "    def _mask(self,index):\n",
    "        return 1<<(index%self._bits)        \n",
    "    def __setitem__(self,indexInBits,value):\n",
    "        if self[indexInBits]!=value:\n",
    "            self._A[self._index(indexInBits)]^=self._mask(indexInBits)\n",
    "    def __getitem__(self,indexInBits):\n",
    "        if  self._A[self._index(indexInBits)] & self._mask(indexInBits) == 0:\n",
    "            return 0\n",
    "        else:\n",
    "            return 1\n",
    "    def __repr__(self):\n",
    "        return \"\".join(str(self[i]) for i in range(self._sizeInBits))\n",
    "    def __sizeof__(self):\n",
    "        return sys.getsizeof(self._A)\n",
    "\n",
    "    "
   ]
  },
  {
   "cell_type": "code",
   "execution_count": 45,
   "metadata": {},
   "outputs": [
    {
     "name": "stdout",
     "output_type": "stream",
     "text": [
      "00000000000000000000\n",
      "00011000000000000000\n",
      "00001000000000000000\n"
     ]
    }
   ],
   "source": [
    "B=BitArray(20)\n",
    "print(repr(B))\n",
    "B[3]=1\n",
    "B[4]=1\n",
    "print(repr(B))\n",
    "B[3]=0\n",
    "print(repr(B))"
   ]
  },
  {
   "cell_type": "code",
   "execution_count": 46,
   "metadata": {},
   "outputs": [
    {
     "name": "stdout",
     "output_type": "stream",
     "text": [
      "Space in bytes to store  1000  numbers from 0.. 2000\n",
      "Bit array: 345\n",
      "List: 16056\n",
      "Dictionary: 36960\n",
      "Set: 36960\n"
     ]
    }
   ],
   "source": [
    "def spaceTest(n):\n",
    "    s=n*2\n",
    "    B=BitArray(s)\n",
    "    L=[0]*s\n",
    "    D={}\n",
    "    S=set()\n",
    "    for i in range(0,s,2):\n",
    "        B[i]=1\n",
    "        L[i]=1\n",
    "        D[i]=1\n",
    "        S.add(i)\n",
    "    print(\"Space in bytes to store \",s//2,\" numbers from 0..\",s)\n",
    "    print(\"Bit array:\",sys.getsizeof(B))\n",
    "    print(\"List:\",sys.getsizeof(L))\n",
    "    print(\"Dictionary:\",sys.getsizeof(D))\n",
    "    print(\"Set:\",sys.getsizeof(D))\n",
    "    \n",
    "\n",
    "spaceTest(1000)\n"
   ]
  },
  {
   "cell_type": "markdown",
   "metadata": {},
   "source": [
    "So in summary, our bit arrays are a factor 60-times more space efficient than python lists and 100 times more efficient than dictionaries or sets."
   ]
  },
  {
   "cell_type": "markdown",
   "metadata": {},
   "source": [
    "# Bloom Filters\n",
    "\n",
    "Our byte arrays were super compact, but of limited value. Usually we want to store things more general than an array boolean values.\n",
    "\n",
    "Here, we introduce the concept of a bloom filter. A bloom filter can store a set of anything, but is very, very compact. It supports inserting elements and checking to see if an element has been inserted. The tradeoff is that it is sometimes wrong. The good news is that the error only occurs in one direction: if you ask if $x$ is in the filter, if it is there the answer is always yes. But, if $x$ is not in the filter, it will usually say no, but there is a chance it will say yes.\n",
    "\n",
    "The structure is very simple. It is initialized with two parameters: `k`, which is the size of the filter in bits, and `h` which is the number of hash functions. The structure is just a bit array of `k` bits. When you want to insert an item `x`, you set the $hash_i(x)$th element of the bit vector to one, for each of the $h$ different hash functions. To see if $x$ is in the has table, you check and see if the $hash_i(x)$th element of the bit vector is one, for each of the $h$ different hash functions.\n"
   ]
  },
  {
   "cell_type": "code",
   "execution_count": 28,
   "metadata": {},
   "outputs": [],
   "source": [
    "class Bloom:\n",
    "    def __init__(self,sizeInBits,hashCount):\n",
    "        self._A=BitArray(sizeInBits)\n",
    "        self._sizeInBits=sizeInBits\n",
    "        self._hashCount=hashCount\n",
    "    def add(self,item):\n",
    "        for h in range(self._hashCount):\n",
    "            self._A[hash((h,item))%self._sizeInBits]=1\n",
    "    def __contains__(self,item):\n",
    "        return all(( self._A[hash((h,item)) % self._sizeInBits] for h in range(self._hashCount)))\n",
    "    def __repr__(self):\n",
    "        return repr(self._A)"
   ]
  },
  {
   "cell_type": "markdown",
   "metadata": {},
   "source": [
    "Now, lets test it. We will create a Bloom filter of size 80 bits and use three hash functions. We will store 10 random strings of length 20. These normally take up 200 bytes, but we use using only 10 bytes. Let's see how it works:"
   ]
  },
  {
   "cell_type": "code",
   "execution_count": 54,
   "metadata": {},
   "outputs": [
    {
     "name": "stdout",
     "output_type": "stream",
     "text": [
      "Adding  aghafthdtmvupzlfhsuv \n",
      " 00000000000000000000000000000000000000000000000000110001000000000000000000000000\n",
      "Adding  rjrstzcnvpjmxqaewser \n",
      " 00000000100000000000000000000000000000010000100000110001000000000000000000000000\n",
      "Adding  fhheislljbsjnvibgjzl \n",
      " 00000000100000000000000000000000000010010000100000110001000000000001000010000000\n",
      "Adding  zomspweytnxjjqlglylu \n",
      " 00000000100000000000100000000000100010010000100000110001000000010001000010000000\n",
      "Adding  nqxncemlnizocgimklcm \n",
      " 00000000100000000000100000000000100011010100100000110001000000010001100010000000\n",
      "Adding  bntlqoflkpnmqidciswa \n",
      " 00000000100010001000100000000000100011010101100000110001000000010001100010000000\n",
      "Adding  exigzqbydcvwtnxjopwp \n",
      " 00000000100010001000100000000000100011011101100000110001000000010001100110001000\n",
      "Adding  xpidfuwajvkiaguwmpcx \n",
      " 00000000100010001010100000000000100011011101100000110011000000010001100110001000\n",
      "Adding  pjtemgsznrixuqucmdmu \n",
      " 00000000110010001010100000000000100011011101100000110011000100010001100110001000\n",
      "Adding  omyxjfbxdbezzvluczdg \n",
      " 00000000110010001010110001000000100011011101100000111011000100010001100110001000\n",
      "Checking those in the filter\n",
      "Checking  aghafthdtmvupzlfhsuv   True\n",
      "Checking  rjrstzcnvpjmxqaewser   True\n",
      "Checking  fhheislljbsjnvibgjzl   True\n",
      "Checking  zomspweytnxjjqlglylu   True\n",
      "Checking  nqxncemlnizocgimklcm   True\n",
      "Checking  bntlqoflkpnmqidciswa   True\n",
      "Checking  exigzqbydcvwtnxjopwp   True\n",
      "Checking  xpidfuwajvkiaguwmpcx   True\n",
      "Checking  pjtemgsznrixuqucmdmu   True\n",
      "Checking  omyxjfbxdbezzvluczdg   True\n",
      "Checking random strings\n",
      "Checking  izrxnaavygrqymzapaae   False\n",
      "Checking  sofxnocvhakwouztemab   False\n",
      "Checking  ujhylsnsxwzysthumete   False\n",
      "Checking  zmscbrhjsywnqknhnpsc   False\n",
      "Checking  efqwctlykanjslukwueo   False\n",
      "Checking  pbcwbscpymvbhvzrjbgt   False\n",
      "Checking  azxkgaqlwwrezosoaftc   True\n",
      "Checking  gghsomwvugoajigflxot   False\n",
      "Checking  dpzvogcxqqvhlaejhyac   False\n",
      "Checking  macqbpywhecojnnsxkll   False\n"
     ]
    }
   ],
   "source": [
    "import random\n",
    "\n",
    "def randomStringOfChars(length):\n",
    "    letters = \"qwertyuiopasdfghjklzxcvbnnm\"\n",
    "    return \"\".join((random.choice(letters) for i in range(length)))\n",
    "\n",
    "A=[]\n",
    "B=Bloom(80,3)\n",
    "\n",
    "for i in range(10):\n",
    "    s=randomStringOfChars(20)\n",
    "    A.append(s)\n",
    "    B.add(s)\n",
    "    print(\"Adding \",s,\"\\n\",repr(B))\n",
    "print(\"Checking those in the filter\")\n",
    "for s in A:\n",
    "    print(\"Checking \",s,\" \",s in B)\n",
    "print(\"Checking random strings\")\n",
    "for s in (randomStringOfChars(20) for i in range(10)):\n",
    "    print(\"Checking \",s,\" \",s in B)    "
   ]
  },
  {
   "cell_type": "markdown",
   "metadata": {},
   "source": [
    "We can also try computing the false positive rate as a function of the various parameters."
   ]
  },
  {
   "cell_type": "code",
   "execution_count": 33,
   "metadata": {},
   "outputs": [],
   "source": [
    "def TestBloomFalsePositivePercent(tableSize,itemsToAdd,hashCount,trials):\n",
    "    B=Bloom(tableSize,hashCount)\n",
    "    for i in range(itemsToAdd):\n",
    "        B.add(randomStringOfChars(100))\n",
    "    falsePositive=0\n",
    "    for i in range(trials):\n",
    "        s=randomStringOfChars(100)   \n",
    "        trials+=1\n",
    "        if s in B:\n",
    "            falsePositive+=1\n",
    "    return 100*falsePositive/trials\n",
    "            "
   ]
  },
  {
   "cell_type": "code",
   "execution_count": 15,
   "metadata": {},
   "outputs": [
    {
     "name": "stdout",
     "output_type": "stream",
     "text": [
      "Percent False positive  1.8 %\n"
     ]
    }
   ],
   "source": [
    "print(\"Percent False positive \",TestBloomFalsePositivePercent(20000,2000,8,1000),\"%\")"
   ]
  },
  {
   "cell_type": "markdown",
   "metadata": {},
   "source": [
    "But, let's stop the experimenting for a minute. As the structure is so simple we can analyze it using math. There are several questions we want to answer:\n",
    "\n",
    "- What is the chance of a false positive, given a specific Bloom filter?\n",
    "- What is the optimal number of hash functions?\n",
    "- How big should the Bloom filter be to achieve a specified error rate?"
   ]
  },
  {
   "cell_type": "markdown",
   "metadata": {},
   "source": [
    "## Chance of false positive\n",
    "\n",
    "We have three parameters:\n",
    "\n",
    "- `k` is the size of the Bloom filter, in bits\n",
    "- `h` is the number of hash functions\n",
    "- `n` is the number of items stored\n",
    "\n",
    "We start with basic assumption on hash functions: For any $i \\in [k]$, for any $x$, and hash function $hash$ $Pr[hash(x)=i]=\\frac{1}{k}$ and thus $Pr[hash(x) \\not = i]=1-\\frac{1}{k}$.\n",
    "\n",
    "Now, what is the chance that with $h$ hash functions $hash_1,\\ldots hash_h$ that none of these hash $x$ to $i$? As we assume independent hash functions, this can be computed as follows:\n",
    "\n",
    "$\\overbrace{Pr[ \\forall_{\\ell \\in [h]} hash_\\ell(x) \\not = i] = \\prod_{\\ell \\in [h]} Pr[ hash_\\ell(x) \\not = i]}^{\\text{Assuming the events are independent}}=(1-\\frac{1}{k})^h$. \n",
    "\n",
    "\n",
    "The above if for a single insertion where $h$ bits are set. For $n$ insertions where $hn$ bits are set, the chance that a single bit remains 0 is:\n",
    "\n",
    "\n",
    "$ (1-\\frac{1}{k})^{hn} $\n",
    "\n",
    "On its own you don't have a good sense of what this is.\n",
    "Whenever we have an expression like this it is good to have the following fact in mind:\n",
    "\n",
    "$ \\displaystyle \\lim_{m \\rightarrow \\infty}\\left(1-\\frac{1}{x}\\right)^x = \\frac{1}{e} $\n",
    "\n",
    "Thus we can rewrite using the fact as an approximation:\n",
    "\n",
    "$Pr[\\text{A bit is 0 after n insertions}] = (1-\\frac{1}{k})^{hn}= (1-\\frac{1}{k})^{k\\cdot\\frac{hn}{k}}\\approx e^{\\frac{-hn}{k}}$\n",
    "\n",
    "Of course then we can get a the probability that a bit is 1:\n",
    "\n",
    "$Pr[\\text{A bit is 1 after n insertions}] \\approx 1- e^{\\frac{-hn}{k}}$\n",
    "\n",
    "When do we have a false positive? When we search for some $x$ that has not been inserted, and all of $hash_\\ell(x)$ for $\\ell \\in [h]$ are one? Since we know the probability a single bit is 1, and we assume they are independent, we can just multiply: (* see note at bottom*)\n",
    "\n",
    "$Pr[\\text{A false positive after $n$ insertions}] \\approx \\left(1- e^{\\frac{-hn}{k}} \\right)^h$\n",
    "\n",
    "Using calculus, this is minimzed when $h = \\frac{k}{n}\\ln 2 \\approx 0.69 \\frac{k}{n}$. At this point the error rate is\n",
    "\n",
    "$Error=\\left(1- e^{\\frac{-n\\frac{k}{n}\\ln 2}{k}} \\right)^{\\frac{k}{n}\\ln 2}=\n",
    "\\left(1-e^{-\\ln 2}\\right)^{\\frac{k}{n}\\ln 2}\n",
    "=\\left( \\frac{1}{2} \\right)^{\\frac{k}{n}\\ln 2}$\n",
    "\n",
    "Taking logarithms:\n",
    "\n",
    "$ \\ln Error =  \\frac{k}{n}\\ln 2 \\ln \\frac{1}{2} = -\\frac{k}{n} \\ln^2 2  \\approx -\\frac{1}{2}\\cdot \\frac{k}{n} $\n",
    "\n",
    "This can be re-written in terms of $\\frac{k}{n}$, the bits-per-item:\n",
    "\n",
    "$ \\frac{k}{n}= - \\frac{1}{\\ln^2 2} \\ln Error $\n",
    "\n",
    "Thus for 1% error, $-\\frac{\\ln 0.1}{\\ln^2 2} \\approx 10$ bits per item and $-\\frac{\\ln 0.1}{\\ln 2} \\approx 7$ hash functions should work.\n",
    "\n",
    "For 0.01% error, $\\approx 19$ bits per item and 13 hash functions should work.\n",
    "\n",
    "** Note from above: They are not really independent, but independence here is a good approximation. For example, if I have two buckets and a put a coin randomly in one bucket, whether the coin is bucket one and bucket two are not independent, since if the coin is in bucket one, it is not in bucket two! However, if you have 2000 buckets and 1000 coins, there is a $1/2$ chance of a bucket having a coin. But, if you look in a bucket and there is a coin, the chance of all other buckets having a coin goes down to $999/1999=0.49974$, which is an excellent approximation for the $0.5$ if you assumed independence. However, Bloom filters can be fully analyzed without this shortcut using something known as the Azuma–Hoeﬀding inequality, which we do not do here.\n"
   ]
  },
  {
   "cell_type": "markdown",
   "metadata": {},
   "source": [
    "## Summary\n",
    "\n",
    "So with an error rate $\\epsilon$, use a Bloom filter with $-\\frac{\\ln \\epsilon}{\\ln^2 2}$ bits per item, and $-\\frac{\\ln \\epsilon}{\\ln 2}$ hash functions. Using big-O, the space usage of a Bloom filter is $O(n \\log \\frac{1}{\\epsilon})$, and the query time is $O\\left( \\log \\frac{1}{\\epsilon} \\right)$. \n",
    "\n",
    "Disadvantages:\n",
    "- Errors\n",
    "- No deletion\n",
    "- No key,value pairs. Just keys."
   ]
  },
  {
   "cell_type": "markdown",
   "metadata": {},
   "source": [
    "## Example: URL\n",
    "\n",
    "Suppose you wanted had a company that kept a database of bad URLs, and you wanted to have a product for customers that would check if the web pages they visited were on the list and warn them. Suppose your list has one million bad URLs and the average length is 70 characters. Without bloom filters you would have these two main options:\n",
    "\n",
    "- Transmit the list of bad URLs to all users. This would be about 70MB of raw data. The user's software would query it. This has a disadvantage of a large file that must be transferred. A large file is likely to not be stored in memory on the computer and so queries could become slow.\n",
    "\n",
    "- Keep the list of bad URLs on the server. The user queries the server for every URL. This requires lots of data tranfers, and the checks will take a while because of network latency.\n",
    "\n",
    "With Bloom filters, there is a third option:\n",
    "\n",
    "- Give the user a bloom filter with one percent accuracy, which uses 10 bits, $\\frac{10}{8}$, bytes per item. Total size is only 1.2MB. Every time there is a hit in the Bloom filter, the server is queried, but this happens in error only 1% of the time.\n",
    "\n",
    "\n",
    "\n",
    "\n"
   ]
  },
  {
   "cell_type": "markdown",
   "metadata": {},
   "source": [
    "# Homework\n",
    "\n",
    "Bloom filters do not support deletion. One way to support deletion is to instead of having an array of single bits, have an array that can store small integers. When we insert, the integers are incremented, and when we delete they are decremented.\n",
    "\n",
    "Your tasks are:\n",
    "\n",
    "- Code a Bloom filter class that supports deletion, where `del B[k]` would delete `k` from `B`. For simplicity, use one byte for each element of the array, so a count in the range 0..255 can be stored. Make sure to generate an error if the maximum count is exceeded.\n",
    "\n",
    "- How many things can be inserted without causing the structure to fail? Try to make a precise mathematical statement.\n",
    "\n",
    "Hint: Us this classic result from probability theory known as ball-and-bins: If you throw $n$ balls randomly into $n$ bins, all bins will contain at most $\\frac{e \\ln n}{\\ln \\ln n}$ balls with  probability at least $1-\\frac{1}{n^{0.35}}$.\n",
    "\n",
    "\n",
    "\n",
    "\n",
    "\n",
    "\n",
    "\n",
    "\n",
    "\n"
   ]
  }
 ],
 "metadata": {
  "kernelspec": {
   "display_name": "Python 3 (ipykernel)",
   "language": "python",
   "name": "python3"
  },
  "language_info": {
   "codemirror_mode": {
    "name": "ipython",
    "version": 3
   },
   "file_extension": ".py",
   "mimetype": "text/x-python",
   "name": "python",
   "nbconvert_exporter": "python",
   "pygments_lexer": "ipython3",
   "version": "3.10.13"
  }
 },
 "nbformat": 4,
 "nbformat_minor": 4
}
