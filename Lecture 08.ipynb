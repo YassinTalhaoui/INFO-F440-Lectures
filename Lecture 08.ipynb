{
 "cells": [
  {
   "cell_type": "markdown",
   "id": "dee5fd3d",
   "metadata": {},
   "source": [
    "# Notebook 8\n",
    "\n",
    "In these classes we have looked at how to design and analyze algorithms for modern computers. This involves an interplay between the following elements:\n",
    "\n",
    "- The problem we wish to solve\n",
    "- The algorithm to solve the problem\n",
    "- The computer that we run the algorithm on\n",
    "- The model of computation used to guide the design of the algorithm and predict its runtime on a real computer\n",
    "\n",
    "We will look at each of these elements. In this lecture there will be less code than in the past. This is because, first, I hope you have obtained enough programming maturity to understand a higher level description of something without having to code it, and secondly, coding everything presented here does become tedious.\n",
    "\n",
    "## The problems\n",
    "\n",
    "First, the problems. We we will largely focus on two problems: searching and sorting. The problem of searching is, given a sorted sequence of items to preprocess it so that haven a query item $x$, the report that $x$ is in the set, and if not report the largest item smaller than x (the *predecessor*) or the smallest item larger than $x$ (the *successor*).\n",
    "I note that if you only care about exact searching, a hash table is generally the structure of choice. For sorting, this is given a collection of items, to put them in order.\n",
    "\n",
    "Both of these problems are usually implemented in a language's standard library (though in Python, searching is not!), and I teach them not because you will need to write code to sort yourself, but understanding the techniques used for these problems is key to creating efficient algorithms and data structures for more complicated problems.\n",
    "\n",
    "## The models of computation\n",
    "\n",
    "The models of computation we will consider are:\n",
    "\n",
    "- The RAM Model\n",
    "- The DAM (Disk-Access) Model / External memory model\n",
    "- The Cache-oblivious model\n",
    "\n",
    "First, the RAM model. This is simply \"count the operations.\" We use Big-O notation to express runtimes so that we don't need to get into the details, and use $n$ to represent the problem size. This is the \"classical\" model which is taught and used the most, and the one we have been using in the class up to this point.\n",
    "\n",
    "\n",
    "# Binary search\n",
    "\n",
    "Linear search is just lopping through the array. It takes time $O(n)$.\n",
    "\n",
    "Binary search is the standard way to search in an ordered list/array. You simply look at the middle element, decide which way to go, and repeat. At each step it reduces the part of the array it looks at by a factor of two until it gets down to a single item. Thus the running time is the solution of $k$ in $\\frac{n}{2^k}=n$ which is $O(\\log n)$.\n",
    "\n",
    "Here is some code:"
   ]
  },
  {
   "cell_type": "code",
   "execution_count": 3,
   "id": "43a70579",
   "metadata": {},
   "outputs": [],
   "source": [
    "import random\n",
    "\n",
    "def randSortedList(size,maxgap):\n",
    "    A=[0]\n",
    "    for i in range(size):\n",
    "        A.append(A[-1]+random.randint(1,maxgap))\n",
    "    return A"
   ]
  },
  {
   "cell_type": "code",
   "execution_count": null,
   "id": "9ea62b57",
   "metadata": {},
   "outputs": [],
   "source": [
    "A=randSortedList(20,10)\n",
    "print(A)"
   ]
  },
  {
   "cell_type": "code",
   "execution_count": null,
   "id": "936c30ff",
   "metadata": {},
   "outputs": [],
   "source": [
    "# Finds smallest item >= searched\n",
    "def linearSearch(A,x):\n",
    "    for a in A:\n",
    "        if x<=a:\n",
    "            return a\n",
    "    return None"
   ]
  },
  {
   "cell_type": "code",
   "execution_count": null,
   "id": "71024165",
   "metadata": {},
   "outputs": [],
   "source": [
    "print(linearSearch(A,100))"
   ]
  },
  {
   "cell_type": "code",
   "execution_count": null,
   "id": "6c4958cd",
   "metadata": {},
   "outputs": [],
   "source": [
    "def binarySearchHelper(A,x,l,r):\n",
    "    if l==r:\n",
    "        return A[l]\n",
    "    m=(l+r)//2\n",
    "    if x<=A[m]:\n",
    "        return binarySearchHelper(A,x,l,m)\n",
    "    else:\n",
    "        return binarySearchHelper(A,x,m+1,r)\n",
    "\n",
    "def binarySearch(A,x):\n",
    "    if x>A[-1]:\n",
    "        return None\n",
    "    else:\n",
    "        return binarySearchHelper(A,x,0,len(A)-1)"
   ]
  },
  {
   "cell_type": "code",
   "execution_count": null,
   "id": "60fa126b",
   "metadata": {},
   "outputs": [],
   "source": [
    "print(binarySearch(A,100))   "
   ]
  },
  {
   "cell_type": "code",
   "execution_count": 10,
   "id": "e61a9b1d",
   "metadata": {},
   "outputs": [],
   "source": [
    "import timeit\n",
    "import matplotlib.pyplot as plt\n",
    "\n",
    "def plotruntime(f,r,trials=1,figsize=[3,3]):\n",
    "    Times=[timeit.timeit(lambda:f(n),number=trials)/trials for n in r]\n",
    "    fig, ax = plt.subplots(figsize=figsize)\n",
    "    ax.plot(r,Times)\n",
    "    ax.set_xlabel(\"Value of n\")\n",
    "    ax.set_ylabel(\"Runtime\")\n",
    "    \n",
    "def plotruntimes(functions,labels,r,trials=1,figsize=[3,3]):\n",
    "    fig, ax = plt.subplots(figsize=figsize)\n",
    "    for f,l in zip(functions,labels):\n",
    "        Times=[timeit.timeit(lambda:f(n),number=trials)/trials for n in r]\n",
    "        ax.plot(r,Times,label=l)\n",
    "    ax.set_xlabel(\"Value of n\")\n",
    "    ax.set_ylabel(\"Runtime\")\n",
    "    ax.set_title(\"Runtime plot: \"+str(trials)+\" trial\"+(\"s\" if trials>1 else \"\"))\n",
    "    ax.legend()"
   ]
  },
  {
   "cell_type": "code",
   "execution_count": null,
   "id": "a34a6c31",
   "metadata": {},
   "outputs": [],
   "source": [
    "A=randSortedList(100000,10)"
   ]
  },
  {
   "cell_type": "code",
   "execution_count": null,
   "id": "0459c7e2",
   "metadata": {
    "scrolled": true
   },
   "outputs": [],
   "source": [
    "def searchNtimes(A,n,searchFunc):\n",
    "    for i in range(n):\n",
    "        x=random.randint(1,A[-1])\n",
    "        searchFunc(A,x)\n",
    "\n",
    "plotruntimes([lambda n:searchNtimes(A[:n],10000,binarySearch),lambda n:searchNtimes(A[:n],10000,linearSearch)],\n",
    "            [\"Binary Search\",\"Linear Search\"],range(1000,10000,1000))\n"
   ]
  },
  {
   "cell_type": "markdown",
   "id": "d104bcf3",
   "metadata": {},
   "source": [
    "# 2-4 Trees and B-Trees\n",
    "\n",
    "One problem with binary search is that it does not allow efficient insertion and deletion, as you may need to scan through the entire array to move items.\n",
    "\n",
    "To solve this, there have been a number of data structures that were invented in the 1960-70s, which store data in what is known as a tree. The most commonly taught and used ones are the *red-black tree* and the *AVL* tree. In this class I will taught a what is known as a 2-3 tree, and its generalization, the B-tree.\n",
    "\n",
    "In a 2-3 tree:\n",
    "- Each node has 1 or two data items stored in sorted order\n",
    "- Each non-leaf node has one more child than data items (thus 2 or 3)\n",
    "- All data in the leftmost child and its descendants (its *subtree*) are smaller than all data items in the node; all data items in the rightmost subtree are greater than all data items in a node; all data items in the middle subtree (if it exists) have values between the two data items in a node\n",
    "- All leaves have the same depth (the tree is balanced)\n",
    "\n",
    "This implies the hight of the tree is $O(\\log n)$, and search can be done in $O(\\log n)$ time by starting at the root and moving to the proper child.\n",
    "\n",
    "To insert, we add the item to the appropriate leaf. If this causes 3 items in the node, we take the middle one and add it to the parent, splitting the node in half; if this causes the parent to have 3 items in the node, this is repeated. This takes times proportional to the height of the tree, $O(\\log n)$.\n",
    "\n",
    "Below is some code that creates 2-3 trees, and visualize them. This is probably the most longest piece of code I have presented all semester. This complication comes from the need to create the tree of nodes, using a separate node class, and maintain all the links between the nodes under insertion. There are many special cases, for the leaves, for the root, for items bigger than the biggest item in a node. In addition, the drawing takes up quite a bit of space as well."
   ]
  },
  {
   "cell_type": "code",
   "execution_count": 1,
   "id": "45a3193c",
   "metadata": {},
   "outputs": [],
   "source": [
    "from ipycanvas import Canvas\n",
    "\n",
    "#Code for a B tree.\n",
    "#Use 3 in the constructor to make 2-3 tree\n",
    "#Much of this code draws the tree\n",
    "\n",
    "class Btree:\n",
    "    class node: #internal class that represents a node\n",
    "        def __init__(self,data,children,parent):\n",
    "            self.data=data\n",
    "            self.children=children\n",
    "            self.parent=parent\n",
    "        def whichChild(self,x):\n",
    "            for i in range(len(self.data)):\n",
    "                if x<=self.data[i]:\n",
    "                    return i\n",
    "            return len(self.data)\n",
    "        def walkToLeaf(self,x): # returns a node and index in the node\n",
    "            i = self.whichChild(x)\n",
    "            if len(self.data)== 0 or self.children[i]==None:\n",
    "                return (self,i)\n",
    "            else:\n",
    "                return self.children[i].walkToLeaf(x)\n",
    "        def draw(self,canvas,fromleft=0,depth=0):\n",
    "            startleft=fromleft\n",
    "            for i in range(len(self.children)):\n",
    "                if self.children[i]!=None:\n",
    "                    fromleft=self.children[i].draw(canvas,fromleft,depth+1)\n",
    "                if i<len(self.data):\n",
    "                    canvas.fill_text(str(self.data[i]),fromleft*30,depth*50)\n",
    "                    fromleft+=1\n",
    "            canvas.stroke_rect(startleft*30-15,depth*50+5,(fromleft-startleft)*30,-25)\n",
    "            canvas.stroke_line( (startleft*30-15)+(fromleft-startleft)*15,\n",
    "                              depth*50-20,(startleft*30-15)+(fromleft-startleft)*15,depth*50-45)\n",
    "            return fromleft           \n",
    "    def __init__(self,B):        \n",
    "        self.root=self.node([],[None],None)\n",
    "        self.B=B\n",
    "    def insert(self,x):\n",
    "        n,i=self.root.walkToLeaf(x)\n",
    "        n.data=n.data[:i]+[x]+n.data[i:]\n",
    "        n.children.append(None)\n",
    "        while (n!=None and len(n.data)==self.B):\n",
    "            halfB=self.B//2\n",
    "            dataToPromote=n.data[halfB]\n",
    "            newnodeL=self.node(n.data[:halfB],n.children[:halfB+1],n.parent)\n",
    "            newnodeR=self.node(n.data[halfB+1:],n.children[halfB+1:],n.parent)\n",
    "            parent=n.parent\n",
    "            for nnlc in newnodeL.children:\n",
    "                if nnlc:\n",
    "                    nnlc.parent=newnodeL\n",
    "            for nnrc in newnodeR.children:\n",
    "                if nnrc:\n",
    "                    nnrc.parent=newnodeR                    \n",
    "            if parent!=None:\n",
    "                i=parent.whichChild(dataToPromote)\n",
    "                parent.data=parent.data[:i]+[dataToPromote]+parent.data[i:]\n",
    "                parent.children=parent.children[:i]+[newnodeL,newnodeR]+parent.children[i+1:]\n",
    "            else:\n",
    "                self.root=self.node([dataToPromote],[newnodeL,newnodeR],None)\n",
    "                newnodeL.parent=self.root\n",
    "                newnodeR.parent=self.root\n",
    "            n=parent\n",
    "                \n",
    "                \n",
    "    def search(self,x):\n",
    "        n=self.root\n",
    "        if len(n.children)==0: # Empty structure\n",
    "            return None\n",
    "        result=None\n",
    "        while n:\n",
    "            i = n.whichChild(x)\n",
    "            if i<len(n.data) and (result==None or n.data[i]<result):\n",
    "                result=n.data[i]\n",
    "            n=n.children[i]\n",
    "        return result\n",
    "            \n",
    "    def draw(self,canvas):\n",
    "        canvas.font = '18px sans-serif'\n",
    "        canvas.text_align=\"center\"\n",
    "        self.root.draw(canvas,1,2)\n",
    "        "
   ]
  },
  {
   "cell_type": "code",
   "execution_count": 26,
   "id": "e3207a2d",
   "metadata": {},
   "outputs": [
    {
     "name": "stdout",
     "output_type": "stream",
     "text": [
      "50\n"
     ]
    },
    {
     "data": {
      "application/vnd.jupyter.widget-view+json": {
       "model_id": "1614fcd50d394789994984a22f41ff47",
       "version_major": 2,
       "version_minor": 0
      },
      "text/plain": [
       "Canvas(width=2000)"
      ]
     },
     "execution_count": 26,
     "metadata": {},
     "output_type": "execute_result"
    }
   ],
   "source": [
    "# Run this several times\n",
    "T=Btree(10) # Use 3 or higher\n",
    "for i in range(200):\n",
    "    T.insert(random.randint(0,99))\n",
    "\n",
    "print(T.search(50))\n",
    "        \n",
    "canvas = Canvas(width=2000, height=500)\n",
    "T.draw(canvas)\n",
    "canvas  "
   ]
  },
  {
   "cell_type": "markdown",
   "id": "fcfc07aa",
   "metadata": {},
   "source": [
    "Here we look for the optimal value of $B$ experimentally. In theory it should be 1 as we are not storing the data on SSD but in RAM. But theory and practice are somewhat different. On my machine the optimal value is in the 10-50 range, with smaller and larger values being worse. When we talk about cache-oblivious algorithms we will try to describe this "
   ]
  },
  {
   "cell_type": "code",
   "execution_count": 8,
   "id": "23517903",
   "metadata": {},
   "outputs": [],
   "source": [
    "ToInsert=[random.randint(0,10000000) for i in range(100000) ]\n",
    "\n",
    "def insertNrandom(B,N):\n",
    "    T=Btree(B)\n",
    "    for i in range(N):\n",
    "        T.insert(ToInsert[i])\n",
    "        \n",
    "insertNrandom(7,10000)"
   ]
  },
  {
   "cell_type": "code",
   "execution_count": 11,
   "id": "35a2b9da",
   "metadata": {},
   "outputs": [
    {
     "data": {
      "image/png": "[encoded data removed]",
      "text/plain": [
       "<Figure size 600x400 with 1 Axes>"
      ]
     },
     "metadata": {},
     "output_type": "display_data"
    }
   ],
   "source": [
    "Bs=[3,10,30,50,100,200]\n",
    "plotruntimes((lambda n:insertNrandom(B,n) for B in Bs),\n",
    "            Bs,range(1000,20000,1000),5,[6,4])\n"
   ]
  },
  {
   "cell_type": "markdown",
   "id": "b33c8673",
   "metadata": {},
   "source": [
    "# Architecture and the DAM model\n",
    "\n",
    "At this point in the lecture, I spoke briefly about how a computer is usually thought of having three levels of memory: registers, RAM, and Disk/SSD.\n",
    "\n",
    "- A 2.4GHz CPU does about 1 operation every 400ps (0.4ns) on its registers. A CPU has about 16-32 registers.\n",
    "- RAM takes about 10ns to access. Typical computers have RAM measured in GB. You lose everything in RAM when you turn off the computer. Cost is about 10,000€/TB.\n",
    "- SSD takes about 10 $\\mu$s to access. Typical SSDs are in the GB/small TB range. Cost is about 200€/TB. \n",
    "- Hard drives (disc) take about 10ms to access, and are in the TB range. Cost is about €20/TB.\n",
    "\n",
    "All computers have registers, RAM and one or SSD or Hard Drive (or some combination, for example, Apple's Fusion drive combines a few TB of disc with 23-138 GB of SSD). The use of SSD is fairly new, and the price has being going down, it was not long ago that hard drives were used for everything, including tiny ones in devices like the original iPods.\n",
    "\n",
    "As there is a huge cost to access disc, a factor for about 1 million, compared to RAM, it was realized that when working on data that does not fit into RAM, the most important thing is to mimimize the number of disc accesses. The one piece of good news is that while accessing a random memory location on disc may take 10ms, one receives not just one word of information, but one *block*, with block sizes being typically from 1000-10,000. To try to formalize this behavior, the Disc Access Model (DAM) was introduced.\n",
    "\n",
    "**Disc Access Model**\n",
    "- There is a memory of size $M$ and a disc of unlimited size.\n",
    "- The disc is split into blocks of size $B$\n",
    "- Transfers of one block between disc and memory take unit time\n",
    "- Computation in memory is free\n",
    "\n",
    "The main simpilfying assumption is that since disc is so much slower than CPU/memory, we don't even need to take into account the cost in memory.\n",
    "\n",
    "The most simple example of a DAM analysis is scanning $n$ items, say to find the maximum, takes time $O(n/B)$.\n",
    "\n",
    "Now, what about a dictionary? The 2-3 trees take time $O(\\log n)$ in the DAM model for insert/delete/search, as any of these operations needs to look at the $O(\\log n)$ nodes on any root-to-leaf path. There is no guarantee that these nodes are in the same block.\n",
    "\n",
    "However, 2-3 trees can be generalized to have node sizes that are between $B/2$ and $B$, and in fact the code above allows this. Such a tree is called a B-tree, and the $B$ of the $B$ tree is chosen to be the same as the $B$ of the DAM model. In that case the height of the tree becomes $\\log_B n$, which is a factor $\\log B$ faster than 2-3 trees. However, in each node we need to look at all $B$ data items to decide which child to go to. In the RAM model this would cost $O(B)$ for each of the $O(\\log_B n)$ nodes for a total cost of $O(B \\log_B N)$, thus in the RAM model with $B=1000$, the $B$-tree would be predicted to be 100 times slower than the 2-3 tree. In the DAM, the scan of $B$ items in each node takes time $O(1)$, this the total time per operation is $O(\\log_B n)$, a factor 10 faster then 2-3 trees in the DAM model. So, we have two analyses each for two different structures, which is right? The truth is that the DAM model is more accurate when your data is primarily on disc, and RAM model is often better when the data fits in memory (but there are more details to come). B-trees form the backbone of industrial databases.\n"
   ]
  },
  {
   "cell_type": "markdown",
   "id": "805b4d75",
   "metadata": {},
   "source": [
    "## Speeding up insertion and deletion in with $B^\\epsilon$ trees\n",
    "\n",
    "In the RAM model, the insertion, deletion, and search cost of $O(\\log n)$ can be shown to be the best possible if all we do is compare data items. We have seen that $O(\\log_B n)$ is possible with B-trees for insertion, deletion, and search. Is this the best possible? It turns out that we can do better for insertion and deletion (we describe insertion).\n",
    "\n",
    "This can be done with a structure often called a $B^{\\epsilon}$ tree, or a buffer tree. This tree is a B-tree with the following modifications:\n",
    "\n",
    "- The number of maximum data items (and children -1) is set to $B^{\\epsilon}$ for some value of $\\epsilon>0$. It helps to think of $\\epsilon$ being $\\frac{1}{2}$ and thus there are $\\sqrt{B}$ items per node\n",
    "- There is a buffer on each non-leaf node of size $B$. These items are not ordered.\n",
    "- Insertions are done into the buffer of the root\n",
    "- When a buffer is full the $B$ items are each placed in buffer of the appropriate child (recall that there are $B^{\\epsilon}$ children).\n",
    "\n",
    "We can assume that the buffer of the root is in memory, and thus it costs nothing to insert into it. When a buffer is full, the $B^{\\epsilon}$ child buffers are loaded into memory, and each of the $B$ items is put into the appropriate child buffer. The cost is $B^{\\epsilon}$ to transfer the child buffers, and thus averaged over the $B$ items being moved is $\\frac{B^{\\epsilon}}{B}=\\frac{1}{B^{1-\\epsilon}}$. As each item will be pushed down at most $\\log_B n$ times before it ends up in a leaf, its total cost will be $O\\left( \\frac{1}{B^{1-\\epsilon}} \\log_B n\\right)$ over its lifetime (the technical tern for this is the *amortized cost*). \n",
    "\n",
    "How much does this help? Lots! Imagining $\\epsilon=\\frac{1}{2}$ and $B=10,000$, this technique speeds up insertion in a B-tree by a factor of $\\sqrt{B}=100$. \n",
    "\n",
    "This technique of lazy updates is a very good design technique in the DAM model: since you pay the same to deal with 1 item or B, it is best to wait until you have B items before you do anything."
   ]
  },
  {
   "cell_type": "markdown",
   "id": "58d4b7cb",
   "metadata": {},
   "source": [
    "# Sorting"
   ]
  },
  {
   "cell_type": "markdown",
   "id": "31851d95",
   "metadata": {},
   "source": [
    "Next, let's talk about sorting. First, the RAM model. There are many ways to sort in $O(n^2)$ time, such as repeatedly finding and removing the minimum element from a list (*selection sort*).\n",
    "\n",
    "We discuss what is known as *merge sort*. The first observation is that two sorted lists of size $n$ can be merged in time $O(n)$. What mergesort does is to split the list in half, recursively sort each half, and then merge them. The base case is that lists of size 1 or 0 are sorted already.\n",
    "\n",
    "The runtime is $O(n \\log n)$ as each item is involved in at most $\\log n$ merges.\n",
    "\n",
    "Here is code for mergesort:"
   ]
  },
  {
   "cell_type": "code",
   "execution_count": null,
   "id": "64366801",
   "metadata": {},
   "outputs": [],
   "source": [
    "\n",
    "def merge(A,B):\n",
    "\n",
    "    C=[]\n",
    "    a=0\n",
    "    b=0\n",
    "    while a<len(A) and b<len(B):\n",
    "        if A[a]<B[b]:\n",
    "            C.append(A[a])\n",
    "            a+=1\n",
    "        else:\n",
    "            C.append(B[b])\n",
    "            b+=1\n",
    "    while a<len(A):\n",
    "        C.append(A[a])\n",
    "        a+=1\n",
    "    while b<len(B):\n",
    "        C.append(B[b])\n",
    "        b+=1\n",
    "    return C\n",
    "\n",
    "#Note verbose and level are just for the nice printing\n",
    "\n",
    "\n",
    "def mergeSort(A,verbose=False,level=0):\n",
    "    if verbose:\n",
    "        print(\"   \"*level,A)    \n",
    "    if len(A)<=1:\n",
    "        return A\n",
    "    else:\n",
    "        m=len(A)//2\n",
    "        return merge(mergeSort(A[:m],verbose,level+1),mergeSort(A[m:],verbose,level+1))\n"
   ]
  },
  {
   "cell_type": "code",
   "execution_count": null,
   "id": "4b1e293f",
   "metadata": {},
   "outputs": [],
   "source": [
    "A=[random.randrange(100) for i in range(20)]\n",
    "print(A)\n",
    "print(mergeSort(A))\n",
    "print(\"Watch what happens through the recusion\")\n",
    "print(mergeSort(A,verbose=True))"
   ]
  },
  {
   "cell_type": "markdown",
   "id": "3b06b259",
   "metadata": {},
   "source": [
    "## DAM model sorting\n",
    "\n",
    "In the DAM model, mergesort takes time $O(n \\log \\frac{n}{B})$. The reason is that merge is just doing three scans, of the two inputs and one output, and scans take time $\\frac{n}{B}$ in the DAM model.\n",
    "\n",
    "Can we do better? Yes! Recall that the DAM model had two parameters, $M$ and $B$. $M$ was the number of things that can fit into memory. So far we have not used memory. But here we can take advantage of it. The idea is to instead of merging two lists at a time, merge $\\frac{M}{B}$ lists. That way one block from each list can be stored in memory, and the minimum item can be determined in zero time (remember that computation in memory is free). So the best thing to do is to do $\\frac{M}{B}$-way mergesort: Split the list into $\\frac{M}{B}$ equal-sized sublists, recursively sort each, then merge them all at once. In normal mergesort, each item is involved in $\\log_2 n$ merges, but by using $\\frac{M}{B}$-way mergesort, each item is in $\\log_{\\frac{M}{B}} n$ merges for a total runtime of $O\\left( \\frac{n}{N} \\log_{\\frac{M}{B}}n \\right)$. This is a factor of $\\log \\frac{M}{B}$ savings. For $M=10GB$ and $B=10000$ this is $\\log 10^6 \\approx 20$ times faster than with binary merge."
   ]
  },
  {
   "cell_type": "markdown",
   "id": "6fbd92a5",
   "metadata": {},
   "source": [
    "# To think about....\n",
    "\n",
    "\n",
    "1. Suppose you want to create a data structure that supports the following operations\n",
    "\n",
    "- Insert($x$): Inserts $x$ into the structure\n",
    "- Search($x$,$y$): Returns all items with keys between $x$ and $y$\n",
    "\n",
    "    Describe (or better code) a DAM model data structure to support these two operations. Your runtime should be expressed in terms of $n$, the items in the structure; $B$, the block size; and $k$ the number of items returned by search. If search returns few items it should run faster then if it returned many.\n",
    "\n",
    "2. Variant: Suppose search just needs to return the *number* of items between $x$ and $y$?\n",
    "\n",
    "3. Suppose you had an unodered list of size $n$ and you wanted to compute the $k$ largest items, in sorted order. Present an algorithm, and compute the runtime in the DAM model. You can assume that $n >  M > k > B$\n",
    "\n"
   ]
  }
 ],
 "metadata": {
  "kernelspec": {
   "display_name": "Python 3",
   "language": "python",
   "name": "python3"
  },
  "language_info": {
   "codemirror_mode": {
    "name": "ipython",
    "version": 3
   },
   "file_extension": ".py",
   "mimetype": "text/x-python",
   "name": "python",
   "nbconvert_exporter": "python",
   "pygments_lexer": "ipython3",
   "version": "3.8.8"
  }
 },
 "nbformat": 4,
 "nbformat_minor": 5
}
